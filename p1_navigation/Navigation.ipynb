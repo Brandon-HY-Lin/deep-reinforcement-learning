{
 "cells": [
  {
   "cell_type": "markdown",
   "metadata": {},
   "source": [
    "# Navigation\n",
    "\n",
    "---\n",
    "\n",
    "You are welcome to use this coding environment to train your agent for the project.  Follow the instructions below to get started!\n",
    "\n",
    "### 1. Start the Environment\n",
    "\n",
    "Run the next code cell to install a few packages.  This line will take a few minutes to run!"
   ]
  },
  {
   "cell_type": "code",
   "execution_count": 1,
   "metadata": {},
   "outputs": [],
   "source": [
    "!pip -q install ./python"
   ]
  },
  {
   "cell_type": "markdown",
   "metadata": {},
   "source": [
    "The environment is already saved in the Workspace and can be accessed at the file path provided below.  Please run the next code cell without making any changes."
   ]
  },
  {
   "cell_type": "code",
   "execution_count": 2,
   "metadata": {},
   "outputs": [
    {
     "name": "stderr",
     "output_type": "stream",
     "text": [
      "INFO:unityagents:\n",
      "'Academy' started successfully!\n",
      "Unity Academy name: Academy\n",
      "        Number of Brains: 1\n",
      "        Number of External Brains : 1\n",
      "        Lesson number : 0\n",
      "        Reset Parameters :\n",
      "\t\t\n",
      "Unity brain name: BananaBrain\n",
      "        Number of Visual Observations (per agent): 0\n",
      "        Vector Observation space type: continuous\n",
      "        Vector Observation space size (per agent): 37\n",
      "        Number of stacked Vector Observation: 1\n",
      "        Vector Action space type: discrete\n",
      "        Vector Action space size (per agent): 4\n",
      "        Vector Action descriptions: , , , \n"
     ]
    }
   ],
   "source": [
    "from unityagents import UnityEnvironment\n",
    "import numpy as np\n",
    "\n",
    "# please do not modify the line below\n",
    "env = UnityEnvironment(file_name=\"/data/Banana_Linux_NoVis/Banana.x86_64\")"
   ]
  },
  {
   "cell_type": "markdown",
   "metadata": {},
   "source": [
    "Environments contain **_brains_** which are responsible for deciding the actions of their associated agents. Here we check for the first brain available, and set it as the default brain we will be controlling from Python."
   ]
  },
  {
   "cell_type": "code",
   "execution_count": 5,
   "metadata": {},
   "outputs": [],
   "source": [
    "# get the default brain\n",
    "brain_name = env.brain_names[0]\n",
    "brain = env.brains[brain_name]"
   ]
  },
  {
   "cell_type": "code",
   "execution_count": 6,
   "metadata": {},
   "outputs": [
    {
     "name": "stdout",
     "output_type": "stream",
     "text": [
      "brain name: BananaBrain\n",
      "\n",
      "action space      - size:  4 \t(type: discrete)\n",
      "observation space - size: 37 \t(type: continuous)\n"
     ]
    }
   ],
   "source": [
    "print('brain name: {}'.format(brain_name))\n",
    "print()\n",
    "print('action space      - size: {:2d} \\t(type: {})'.format(brain.vector_action_space_size, brain.vector_action_space_type))\n",
    "print('observation space - size: {:2d} \\t(type: {})'.format(brain.vector_observation_space_size, brain.vector_observation_space_type))"
   ]
  },
  {
   "cell_type": "markdown",
   "metadata": {},
   "source": [
    "### 2. Examine the State and Action Spaces\n",
    "\n",
    "Run the code cell below to print some information about the environment."
   ]
  },
  {
   "cell_type": "code",
   "execution_count": 7,
   "metadata": {},
   "outputs": [
    {
     "name": "stdout",
     "output_type": "stream",
     "text": [
      "Number of agents: 1\n",
      "Number of actions: 4\n",
      "States look like: [ 1.          0.          0.          0.          0.84408134  0.          0.\n",
      "  1.          0.          0.0748472   0.          1.          0.          0.\n",
      "  0.25755     1.          0.          0.          0.          0.74177343\n",
      "  0.          1.          0.          0.          0.25854847  0.          0.\n",
      "  1.          0.          0.09355672  0.          1.          0.          0.\n",
      "  0.31969345  0.          0.        ]\n",
      "States have length: 37\n"
     ]
    }
   ],
   "source": [
    "# reset the environment\n",
    "env_info = env.reset(train_mode=True)[brain_name]\n",
    "\n",
    "# number of agents in the environment\n",
    "print('Number of agents:', len(env_info.agents))\n",
    "\n",
    "# number of actions\n",
    "action_size = brain.vector_action_space_size\n",
    "print('Number of actions:', action_size)\n",
    "\n",
    "# examine the state space \n",
    "state = env_info.vector_observations[0]\n",
    "print('States look like:', state)\n",
    "state_size = len(state)\n",
    "print('States have length:', state_size)"
   ]
  },
  {
   "cell_type": "markdown",
   "metadata": {},
   "source": [
    "### 3. Take Random Actions in the Environment\n",
    "\n",
    "In the next code cell, you will learn how to use the Python API to control the agent and receive feedback from the environment.\n",
    "\n",
    "Note that **in this coding environment, you will not be able to watch the agent while it is training**, and you should set `train_mode=True` to restart the environment."
   ]
  },
  {
   "cell_type": "code",
   "execution_count": 8,
   "metadata": {},
   "outputs": [
    {
     "name": "stdout",
     "output_type": "stream",
     "text": [
      "Score: 0.0\n"
     ]
    }
   ],
   "source": [
    "env_info = env.reset(train_mode=True)[brain_name] # reset the environment\n",
    "state = env_info.vector_observations[0]            # get the current state\n",
    "score = 0                                          # initialize the score\n",
    "while True:\n",
    "    action = np.random.randint(action_size)        # select an action\n",
    "    env_info = env.step(action)[brain_name]        # send the action to the environment\n",
    "    next_state = env_info.vector_observations[0]   # get the next state\n",
    "    reward = env_info.rewards[0]                   # get the reward\n",
    "    done = env_info.local_done[0]                  # see if episode has finished\n",
    "    score += reward                                # update the score\n",
    "    state = next_state                             # roll over the state to next time step\n",
    "    if done:                                       # exit loop if episode finished\n",
    "        break\n",
    "    \n",
    "print(\"Score: {}\".format(score))"
   ]
  },
  {
   "cell_type": "markdown",
   "metadata": {},
   "source": [
    "When finished, you can close the environment."
   ]
  },
  {
   "cell_type": "code",
   "execution_count": 9,
   "metadata": {},
   "outputs": [],
   "source": [
    "env.close()"
   ]
  },
  {
   "cell_type": "markdown",
   "metadata": {},
   "source": [
    "### 4. It's Your Turn!\n",
    "\n",
    "Now it's your turn to train your own agent to solve the environment!  A few **important notes**:\n",
    "- When training the environment, set `train_mode=True`, so that the line for resetting the environment looks like the following:\n",
    "```python\n",
    "env_info = env.reset(train_mode=True)[brain_name]\n",
    "```\n",
    "- To structure your work, you're welcome to work directly in this Jupyter notebook, or you might like to start over with a new file!  You can see the list of files in the workspace by clicking on **_Jupyter_** in the top left corner of the notebook.\n",
    "- In this coding environment, you will not be able to watch the agent while it is training.  However, **_after training the agent_**, you can download the saved model weights to watch the agent on your own machine! "
   ]
  },
  {
   "cell_type": "code",
   "execution_count": 3,
   "metadata": {},
   "outputs": [
    {
     "name": "stdout",
     "output_type": "stream",
     "text": [
      "Episode 100\tAverage Score: 2.07, execution time=0:01:20.281506\n",
      "Episode 200\tAverage Score: 6.22, execution time=0:01:20.838285\n",
      "Episode 300\tAverage Score: 11.48, execution time=0:01:25.220552\n",
      "Episode 376\t Average Score: 13.04\n",
      "Environment solved in 276 episodes!\tAverage Score: 13.04\n",
      "Episode 400\tAverage Score: 13.06, execution time=0:01:26.532644\n",
      "Episode 500\tAverage Score: 15.19, execution time=0:01:27.052357\n",
      "Episode 600\tAverage Score: 15.38, execution time=0:01:26.194458\n",
      "Episode 700\tAverage Score: 15.52, execution time=0:01:27.282411\n",
      "Episode 800\tAverage Score: 15.43, execution time=0:01:26.093528\n",
      "Episode 900\tAverage Score: 16.16, execution time=0:01:25.230312\n",
      "Episode 1000\tAverage Score: 16.39, execution time=0:01:28.998553\n",
      "Episode 1100\tAverage Score: 16.25, execution time=0:01:27.804786\n",
      "Episode 1200\tAverage Score: 15.64, execution time=0:01:28.099685\n",
      "Episode 1300\tAverage Score: 15.55, execution time=0:01:29.670619\n",
      "Episode 1400\tAverage Score: 14.98, execution time=0:01:34.069898\n",
      "Episode 1500\tAverage Score: 15.13, execution time=0:01:32.029778\n",
      "Episode 1600\tAverage Score: 15.50, execution time=0:01:28.746486\n",
      "Episode 1700\tAverage Score: 16.49, execution time=0:01:31.441792\n",
      "Episode 1800\tAverage Score: 16.04, execution time=0:01:28.024628\n",
      "Episode 1900\tAverage Score: 15.88, execution time=0:01:29.641100\n",
      "Episode 2000\tAverage Score: 15.62, execution time=0:01:28.241330\n"
     ]
    }
   ],
   "source": [
    "%load_ext autoreload\n",
    "%autoreload 2\n",
    "\n",
    "import pickle\n",
    "import os\n",
    "import torch\n",
    "\n",
    "from collections import deque\n",
    "from datetime import datetime\n",
    "\n",
    "import numpy as np\n",
    "\n",
    "\n",
    "from agents.ddqn_agent import DDQN_Agent\n",
    "from task import Task\n",
    "\n",
    "n_episodes=2000\n",
    "\n",
    "### model file\n",
    "model_name='ddqn_epsEnd_002_epsDecay_098_official'\n",
    "\n",
    "# logging\n",
    "dir_logs='./logs/'\n",
    "filename_log='scores_{}.pickles'.format(model_name)\n",
    "path_log = dir_logs + filename_log\n",
    "\n",
    "dir_models='./models/'\n",
    "filename_model='checkpoint_{}.pth'.format(model_name)\n",
    "path_model=dir_models + filename_model\n",
    "\n",
    "\n",
    "\n",
    "\n",
    "\n",
    "if not os.path.exists(dir_logs):\n",
    "    os.makedirs(dir_logs)\n",
    "\n",
    "if not os.path.exists(dir_models):\n",
    "    os.makedirs(dir_models)\n",
    "    \n",
    "LENGTH_MOVING_AVERAGE=100\n",
    "\n",
    "def ddqn(unity_env, path_model, path_log, n_episodes=2000, max_t=1000, eps_start=1.0, eps_end=0.01, eps_decay=0.995, seed=0, length_moving_average=LENGTH_MOVING_AVERAGE):\n",
    "    task = Task(unity_env=unity_env)\n",
    "    agent = DDQN_Agent(task.state_size, task.action_size, seed=seed)\n",
    "\n",
    "    # Main body of traininig\n",
    "    scores = []\n",
    "    scores_window = deque(maxlen=length_moving_average)\n",
    "    eps = eps_start\n",
    "    \n",
    "\n",
    "    time_start = datetime.now()\n",
    "\n",
    "    is_print = False\n",
    "    \n",
    "    for i_episode in range(1, n_episodes+1):\n",
    "        \n",
    "        state = task.reset()\n",
    "        score = 0.0\n",
    "\n",
    "        for t in range(max_t):\n",
    "\n",
    "            action = agent.act(state, eps)\n",
    "\n",
    "            next_state, reward, done, info = task.step(action)\n",
    "\n",
    "            agent.step(state, action, reward, next_state, done)\n",
    "\n",
    "            state = next_state\n",
    "            score += reward\n",
    "            if done:\n",
    "                break\n",
    "\n",
    "\n",
    "        scores_window.append(score)\n",
    "        scores.append(score)\n",
    "        \n",
    "        eps = max(eps_end, eps_decay * eps)\n",
    "        \n",
    "        # print training message without newline\n",
    "        print('\\rEpisode {}\\t Average Score: {:.2f}'.format(i_episode, np.mean(scores_window)), end=\"\")\n",
    "        \n",
    "        # print training message\n",
    "        if i_episode % 100 == 0:\n",
    "            print('\\rEpisode {}\\tAverage Score: {:.2f}, execution time={}'.format(i_episode,\n",
    "                                                                               np.mean(scores_window),\n",
    "                                                                               datetime.now() - time_start))\n",
    "\n",
    "            time_start = datetime.now()\n",
    "\n",
    "\n",
    "        # endding crietrion\n",
    "        if np.mean(scores_window) >= 13.0 and is_print == False:\n",
    "            print('\\nEnvironment solved in {:d} episodes!\\tAverage Score: {:.2f}'.format(i_episode-length_moving_average, np.mean(scores_window)))\n",
    "            is_print = True\n",
    "#             break\n",
    "\n",
    "\n",
    "    # save model\n",
    "    torch.save(agent.qnetwork_local.state_dict(), path_model)\n",
    "    \n",
    "    return scores\n",
    "    \n",
    "\n",
    "scores = ddqn(eps_end=0.02, eps_decay=0.98, unity_env=env, path_model=path_model, path_log=path_log, n_episodes=n_episodes)\n",
    "\n",
    "# save scores\n",
    "with open(path_log, 'wb') as f:\n",
    "    pickle.dump(scores, f)"
   ]
  },
  {
   "cell_type": "code",
   "execution_count": 3,
   "metadata": {},
   "outputs": [
    {
     "data": {
      "image/png": "[encoded data removed]",
      "text/plain": [
       "<matplotlib.figure.Figure at 0x7fed8f91e240>"
      ]
     },
     "metadata": {
      "needs_background": "light"
     },
     "output_type": "display_data"
    }
   ],
   "source": [
    "import matplotlib.pyplot as plt\n",
    "%matplotlib inline\n",
    "\n",
    "import numpy as np\n",
    "\n",
    "# load scores from file\n",
    "scores = pickle.load(open(dir_logs + filename_log, 'rb'))\n",
    "\n",
    "# calculate moving average\n",
    "window_size = 100\n",
    "moving_average = np.convolve(scores, np.ones((window_size,))/window_size, mode='valid')\n",
    "\n",
    "# plot scores\n",
    "fig = plt.figure()\n",
    "ax = fig.add_subplot(111)\n",
    "plt.plot(np.arange(len(scores)), scores, label='original')\n",
    "plt.plot(np.arange(len(moving_average)), moving_average, label='moving average (window size={})'.format(window_size))\n",
    "plt.legend()\n",
    "plt.ylabel('Score')\n",
    "plt.xlabel('Episode #')\n",
    "plt.show()"
   ]
  },
  {
   "cell_type": "markdown",
   "metadata": {},
   "source": [
    "### Compare Results\n",
    "The following compare the results between DQN, DDQN, and Dueling DDQN."
   ]
  },
  {
   "cell_type": "code",
   "execution_count": 4,
   "metadata": {},
   "outputs": [
    {
     "data": {
      "image/png": "[encoded data removed]",
      "text/plain": [
       "<matplotlib.figure.Figure at 0x7fed8d8a2898>"
      ]
     },
     "metadata": {
      "needs_background": "light"
     },
     "output_type": "display_data"
    }
   ],
   "source": [
    "import matplotlib.pyplot as plt\n",
    "%matplotlib inline\n",
    "import numpy as np\n",
    "import pickle\n",
    "\n",
    "from collections import namedtuple\n",
    "    \n",
    "def plot_averaged_results(parcels, n_moving_window, alpha=1.0):\n",
    "    \n",
    "    fig = plt.figure()\n",
    "    ax = fig.add_subplot(111)\n",
    "        \n",
    "    for p in parcels:\n",
    "        comment, path_log, color = p\n",
    "        with open(path_log, 'rb') as f:\n",
    "            scores = pickle.load(f)\n",
    "\n",
    "        moving_average = np.convolve(scores, np.ones((n_moving_window,))/n_moving_window, mode='valid')\n",
    "\n",
    "        \n",
    "#         plt.plot(np.arange(len(scores)), scores, color=color, alpha=alpha)\n",
    "        plt.plot(np.arange(len(moving_average)), moving_average, \n",
    "                 label='{}'.format(comment), \n",
    "                 color=color, alpha=alpha)\n",
    "    \n",
    "\n",
    "    #draw horizontal line\n",
    "    plt.plot(np.arange(len(moving_average)), np.ones(len(moving_average)) * 13.0, 'k--')\n",
    "    \n",
    "    \n",
    "    plt.legend()    \n",
    "    plt.ylabel('Score')\n",
    "    plt.xlabel('Episode #')\n",
    "    plt.show()\n",
    "    \n",
    "\n",
    "n_moving_window = 100\n",
    "LogParcel = namedtuple('LogParcel', ['comment', 'path', 'color'])\n",
    "logParcels = [LogParcel('DQN', './logs/scores_dqn.pickles', 'r'),\n",
    "        LogParcel('DDQN', './logs/scores_ddqn_epsEnd_002_epsDecay_098.pickles', 'b'),\n",
    "        LogParcel('Dueling DDQN', './logs/scores_dueling_ddqn_epsDecay_098_epsEnd_01.pickles', 'g')]\n",
    "\n",
    "plot_averaged_results(logParcels, n_moving_window)"
   ]
  },
  {
   "cell_type": "markdown",
   "metadata": {},
   "source": [
    "### Results of free run"
   ]
  },
  {
   "cell_type": "code",
   "execution_count": 4,
   "metadata": {},
   "outputs": [
    {
     "data": {
      "image/png": "[encoded data removed]",
      "text/plain": [
       "<matplotlib.figure.Figure at 0x7fdc7e5c0588>"
      ]
     },
     "metadata": {
      "needs_background": "light"
     },
     "output_type": "display_data"
    }
   ],
   "source": [
    "import matplotlib.pyplot as plt\n",
    "%matplotlib inline\n",
    "import numpy as np\n",
    "import pickle\n",
    "\n",
    "from collections import namedtuple\n",
    "    \n",
    "def plot_averaged_results(parcels, n_moving_window, alpha=1.0):\n",
    "    \n",
    "    fig = plt.figure()\n",
    "    ax = fig.add_subplot(111)\n",
    "        \n",
    "    for p in parcels:\n",
    "        comment, path_log, color = p\n",
    "        with open(path_log, 'rb') as f:\n",
    "            scores = pickle.load(f)\n",
    "\n",
    "        moving_average = np.convolve(scores, np.ones((n_moving_window,))/n_moving_window, mode='valid')\n",
    "\n",
    "        \n",
    "#         plt.plot(np.arange(len(scores)), scores, color=color, alpha=alpha)\n",
    "        plt.plot(np.arange(len(moving_average)), moving_average, \n",
    "                 label='{}'.format(comment), \n",
    "                 color=color, alpha=alpha)\n",
    "    \n",
    "\n",
    "    #draw horizontal line\n",
    "    plt.plot(np.arange(len(moving_average)), np.ones(len(moving_average)) * 13.0, 'k--')\n",
    "    \n",
    "    \n",
    "    plt.legend()    \n",
    "    plt.ylabel('Score')\n",
    "    plt.xlabel('Episode #')\n",
    "    plt.show()\n",
    "    \n",
    "\n",
    "n_moving_window = 100\n",
    "LogParcel = namedtuple('LogParcel', ['comment', 'path', 'color'])\n",
    "logParcels = [LogParcel('DQN', './logs/scores_dqn_free_run.pickles', 'r'),\n",
    "        LogParcel('DDQN', './logs/scores_ddqn_free_run_epsEnd_002_epsDecay_098.pickles', 'b'),\n",
    "        LogParcel('Dueling DDQN', './logs/scores_ddqn_epsEnd_01_epsDecay_098_official.pickles', 'g')]\n",
    "\n",
    "plot_averaged_results(logParcels, n_moving_window)"
   ]
  },
  {
   "cell_type": "code",
   "execution_count": null,
   "metadata": {},
   "outputs": [],
   "source": []
  }
 ],
 "metadata": {
  "kernelspec": {
   "display_name": "Python 3",
   "language": "python",
   "name": "python3"
  },
  "language_info": {
   "codemirror_mode": {
    "name": "ipython",
    "version": 3
   },
   "file_extension": ".py",
   "mimetype": "text/x-python",
   "name": "python",
   "nbconvert_exporter": "python",
   "pygments_lexer": "ipython3",
   "version": "3.6.3"
  }
 },
 "nbformat": 4,
 "nbformat_minor": 2
}
