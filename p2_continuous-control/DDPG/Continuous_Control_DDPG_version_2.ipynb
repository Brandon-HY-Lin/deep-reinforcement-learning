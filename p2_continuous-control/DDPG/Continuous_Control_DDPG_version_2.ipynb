{
 "cells": [
  {
   "cell_type": "markdown",
   "metadata": {},
   "source": [
    "# Continuous Control - Version 2\n",
    "\n",
    "---\n",
    "This version add gradient clipping feature. The gradient of critic loss function are clipped.\n",
    "\n",
    "You are welcome to use this coding environment to train your agent for the project.  Follow the instructions below to get started!\n",
    "\n",
    "### 1. Start the Environment\n",
    "\n",
    "Run the next code cell to install a few packages.  This line will take a few minutes to run!"
   ]
  },
  {
   "cell_type": "code",
   "execution_count": 1,
   "metadata": {},
   "outputs": [],
   "source": [
    "!pip -q install ./python"
   ]
  },
  {
   "cell_type": "markdown",
   "metadata": {},
   "source": [
    "The environments corresponding to both versions of the environment are already saved in the Workspace and can be accessed at the file paths provided below.  \n",
    "\n",
    "Please select one of the two options below for loading the environment."
   ]
  },
  {
   "cell_type": "code",
   "execution_count": 2,
   "metadata": {},
   "outputs": [
    {
     "name": "stderr",
     "output_type": "stream",
     "text": [
      "INFO:unityagents:\n",
      "'Academy' started successfully!\n",
      "Unity Academy name: Academy\n",
      "        Number of Brains: 1\n",
      "        Number of External Brains : 1\n",
      "        Lesson number : 0\n",
      "        Reset Parameters :\n",
      "\t\tgoal_speed -> 1.0\n",
      "\t\tgoal_size -> 5.0\n",
      "Unity brain name: ReacherBrain\n",
      "        Number of Visual Observations (per agent): 0\n",
      "        Vector Observation space type: continuous\n",
      "        Vector Observation space size (per agent): 33\n",
      "        Number of stacked Vector Observation: 1\n",
      "        Vector Action space type: continuous\n",
      "        Vector Action space size (per agent): 4\n",
      "        Vector Action descriptions: , , , \n"
     ]
    }
   ],
   "source": [
    "from unityagents import UnityEnvironment\n",
    "import numpy as np\n",
    "\n",
    "# select this option to load version 1 (with a single agent) of the environment\n",
    "# env = UnityEnvironment(file_name='/data/Reacher_One_Linux_NoVis/Reacher_One_Linux_NoVis.x86_64')\n",
    "\n",
    "# select this option to load version 2 (with 20 agents) of the environment\n",
    "env = UnityEnvironment(file_name='/data/Reacher_Linux_NoVis/Reacher.x86_64')"
   ]
  },
  {
   "cell_type": "markdown",
   "metadata": {},
   "source": [
    "Environments contain **_brains_** which are responsible for deciding the actions of their associated agents. Here we check for the first brain available, and set it as the default brain we will be controlling from Python."
   ]
  },
  {
   "cell_type": "code",
   "execution_count": 3,
   "metadata": {},
   "outputs": [],
   "source": [
    "# get the default brain\n",
    "brain_name = env.brain_names[0]\n",
    "brain = env.brains[brain_name]"
   ]
  },
  {
   "cell_type": "code",
   "execution_count": 4,
   "metadata": {},
   "outputs": [
    {
     "data": {
      "text/plain": [
       "['ReacherBrain']"
      ]
     },
     "execution_count": 4,
     "metadata": {},
     "output_type": "execute_result"
    }
   ],
   "source": [
    "env.brain_names"
   ]
  },
  {
   "cell_type": "markdown",
   "metadata": {},
   "source": [
    "### 2. Examine the State and Action Spaces\n",
    "\n",
    "Run the code cell below to print some information about the environment."
   ]
  },
  {
   "cell_type": "code",
   "execution_count": 5,
   "metadata": {},
   "outputs": [
    {
     "name": "stdout",
     "output_type": "stream",
     "text": [
      "Number of agents: 20\n",
      "Size of each action: 4\n",
      "There are 20 agents. Each observes a state with length: 33\n",
      "The state for the first agent looks like: [  0.00000000e+00  -4.00000000e+00   0.00000000e+00   1.00000000e+00\n",
      "  -0.00000000e+00  -0.00000000e+00  -4.37113883e-08   0.00000000e+00\n",
      "   0.00000000e+00   0.00000000e+00   0.00000000e+00   0.00000000e+00\n",
      "   0.00000000e+00   0.00000000e+00  -1.00000000e+01   0.00000000e+00\n",
      "   1.00000000e+00  -0.00000000e+00  -0.00000000e+00  -4.37113883e-08\n",
      "   0.00000000e+00   0.00000000e+00   0.00000000e+00   0.00000000e+00\n",
      "   0.00000000e+00   0.00000000e+00   5.75471878e+00  -1.00000000e+00\n",
      "   5.55726624e+00   0.00000000e+00   1.00000000e+00   0.00000000e+00\n",
      "  -1.68164849e-01]\n"
     ]
    }
   ],
   "source": [
    "# reset the environment\n",
    "env_info = env.reset(train_mode=True)[brain_name]\n",
    "\n",
    "# number of agents\n",
    "num_agents = len(env_info.agents)\n",
    "print('Number of agents:', num_agents)\n",
    "\n",
    "# size of each action\n",
    "action_size = brain.vector_action_space_size\n",
    "print('Size of each action:', action_size)\n",
    "\n",
    "# examine the state space \n",
    "states = env_info.vector_observations\n",
    "state_size = states.shape[1]\n",
    "print('There are {} agents. Each observes a state with length: {}'.format(states.shape[0], state_size))\n",
    "print('The state for the first agent looks like:', states[0])"
   ]
  },
  {
   "cell_type": "markdown",
   "metadata": {},
   "source": [
    "### 3. Take Random Actions in the Environment\n",
    "\n",
    "In the next code cell, you will learn how to use the Python API to control the agent and receive feedback from the environment.\n",
    "\n",
    "Note that **in this coding environment, you will not be able to watch the agents while they are training**, and you should set `train_mode=True` to restart the environment."
   ]
  },
  {
   "cell_type": "code",
   "execution_count": 6,
   "metadata": {},
   "outputs": [
    {
     "name": "stdout",
     "output_type": "stream",
     "text": [
      "Total score (averaged over agents) this episode: 0.14699999671429395\n"
     ]
    }
   ],
   "source": [
    "env_info = env.reset(train_mode=True)[brain_name]      # reset the environment    \n",
    "states = env_info.vector_observations                  # get the current state (for each agent)\n",
    "scores = np.zeros(num_agents)                          # initialize the score (for each agent)\n",
    "while True:\n",
    "    actions = np.random.randn(num_agents, action_size) # select an action (for each agent)\n",
    "    actions = np.clip(actions, -1, 1)                  # all actions between -1 and 1\n",
    "    env_info = env.step(actions)[brain_name]           # send all actions to tne environment\n",
    "    next_states = env_info.vector_observations         # get next state (for each agent)\n",
    "    rewards = env_info.rewards                         # get reward (for each agent)\n",
    "    dones = env_info.local_done                        # see if episode finished\n",
    "    scores += env_info.rewards                         # update the score (for each agent)\n",
    "    states = next_states                               # roll over states to next time step\n",
    "    if np.any(dones):                                  # exit loop if episode finished\n",
    "        break\n",
    "print('Total score (averaged over agents) this episode: {}'.format(np.mean(scores)))"
   ]
  },
  {
   "cell_type": "markdown",
   "metadata": {},
   "source": [
    "When finished, you can close the environment."
   ]
  },
  {
   "cell_type": "code",
   "execution_count": 7,
   "metadata": {},
   "outputs": [],
   "source": [
    "# env.close()"
   ]
  },
  {
   "cell_type": "markdown",
   "metadata": {},
   "source": [
    "### 4. It's Your Turn!\n",
    "\n",
    "Now it's your turn to train your own agent to solve the environment!  A few **important notes**:\n",
    "- When training the environment, set `train_mode=True`, so that the line for resetting the environment looks like the following:\n",
    "```python\n",
    "env_info = env.reset(train_mode=True)[brain_name]\n",
    "```\n",
    "- To structure your work, you're welcome to work directly in this Jupyter notebook, or you might like to start over with a new file!  You can see the list of files in the workspace by clicking on **_Jupyter_** in the top left corner of the notebook.\n",
    "- In this coding environment, you will not be able to watch the agents while they are training.  However, **_after training the agents_**, you can download the saved model weights to watch the agents on your own machine! "
   ]
  },
  {
   "cell_type": "code",
   "execution_count": 15,
   "metadata": {},
   "outputs": [
    {
     "name": "stdout",
     "output_type": "stream",
     "text": [
      "The autoreload extension is already loaded. To reload it, use:\n",
      "  %reload_ext autoreload\n",
      "Episode 100\tAverage Score: 3.45\tAverage Time=0:00:04.4933880:07:29.109691\n",
      "Episode 200\tAverage Score: 11.04\tAverage Time=0:00:04.4390060:15:00.385286\n",
      "Episode 300\tAverage Score: 11.08\tAverage Time=0:00:04.4383920:22:26.319366\n",
      "Episode 400\tAverage Score: 11.08\tAverage Time=0:00:04.4177060:29:51.498474\n",
      "Episode 500\tAverage Score: 11.03\tAverage Time=0:00:04.4071740:37:14.761189\n",
      "Average Score: 11.03\tTotal Time=0:37:14.762396\n"
     ]
    },
    {
     "data": {
      "image/png": "[encoded data removed]",
      "text/plain": [
       "<matplotlib.figure.Figure at 0x7f63732427b8>"
      ]
     },
     "metadata": {
      "needs_background": "light"
     },
     "output_type": "display_data"
    }
   ],
   "source": [
    "%load_ext autoreload\n",
    "%autoreload 2\n",
    "\n",
    "from utils.workspace_utils import active_session\n",
    "\n",
    "import pdb\n",
    "\n",
    "import matplotlib.pyplot as plt\n",
    "%matplotlib inline\n",
    "\n",
    "from collections import deque\n",
    "import numpy as np\n",
    "from datetime import datetime\n",
    "from utils import utils\n",
    "from unity_env_decorator import UnityEnvDecorator\n",
    "from agents.ddpg_agent_version_2 import DDPGAgentVersion2\n",
    "from utils.utils import ScoreParcels\n",
    "\n",
    "version='DDPG_version_2'\n",
    "dir_logs='./logs/'\n",
    "dir_checkpoints='./checkpoints/'\n",
    "\n",
    "\n",
    "def DDPG(envDecorator, agent, n_episode=1000, max_t=300, print_every=100, size_window=100):\n",
    "    # Record accumulated reward for every episode\n",
    "    scores_deque = deque(maxlen=size_window)\n",
    "    scores = []\n",
    "    \n",
    "    # Declare time stamp for total execution time\n",
    "    time_total_start = datetime.now()\n",
    "    \n",
    "    for i_episode in range(1, n_episode+1):\n",
    "        states = envDecorator.reset()\n",
    "        agent.reset()\n",
    "        \n",
    "#         pdb.set_trace()\n",
    "        score = np.zeros(envDecorator.num_agents)\n",
    "        time_episode_start = datetime.now()\n",
    "        for _ in range(max_t):\n",
    "            \n",
    "            actions = agent.act(states)\n",
    "\n",
    "            next_states, rewards, dones, _ = envDecorator.step(actions)\n",
    "\n",
    "            agent.step(states, actions, rewards, next_states, dones)\n",
    "\n",
    "            score += rewards\n",
    "\n",
    "            states = next_states\n",
    "            \n",
    "            if np.any(dones):\n",
    "                break\n",
    "\n",
    "        score_mean = np.mean(score)\n",
    "        \n",
    "        scores.append(score_mean)\n",
    "        scores_deque.append(score_mean)\n",
    "        \n",
    "        print('\\rEpisode {}\\tScore: {:.2f}\\tAverage Score: {:.2f}\\tAbsolute Time={}\\r'.format(i_episode,\n",
    "                                                                        score_mean,\n",
    "                                                                        np.mean(scores_deque),\n",
    "                                                                        datetime.now() - time_total_start),\n",
    "                                                                         end='')\n",
    "        \n",
    "        if i_episode % print_every == 0:\n",
    "            print('Episode {}\\tAverage Score: {:.2f}\\tAverage Time={}'.format(i_episode,\n",
    "                                                                            np.mean(scores_deque),\n",
    "                                                                            datetime.now() - time_episode_start))\n",
    "            \n",
    "            time_episode_start = datetime.now()\n",
    "            \n",
    "           \n",
    "    print('Average Score: {:.2f}\\tTotal Time={}'.format(np.mean(scores_deque),\n",
    "                                                        datetime.now() - time_total_start))\n",
    "    \n",
    "    return scores\n",
    "\n",
    "\n",
    "with active_session():\n",
    "\n",
    "    # Decorator of unity environmet\n",
    "    envDecorator = UnityEnvDecorator(env)\n",
    "\n",
    "    agent = DDPGAgentVersion2(state_size=33, action_size=4, num_agents=envDecorator.num_agents,\n",
    "                      random_seed=0,\n",
    "                      lr_actor=1e-4, lr_critic=1e-4,\n",
    "                      fc1_units=400, fc2_units=300,\n",
    "                     max_norm=1.0)\n",
    "\n",
    "    scores = DDPG(envDecorator, agent, n_episode=500)\n",
    "\n",
    "    utils.save_logs(scores, dir_logs, version)\n",
    "    path_score = utils.log_path_name(dir_logs, version)\n",
    "\n",
    "    score_parcels = [ScoreParcels('DDPG', path_score, 'r')]\n",
    "    utils.plot_scores(score_parcels, size_window=100)\n",
    "\n",
    "    # save models in the agent. (Agent needs to return dict with model-name pair)\n",
    "    utils.save_agent(agent.model_dicts(), dir_checkpoints, version)\n",
    "    "
   ]
  },
  {
   "cell_type": "markdown",
   "metadata": {},
   "source": [
    "### Save### Plot with Raw Data"
   ]
  },
  {
   "cell_type": "code",
   "execution_count": 2,
   "metadata": {},
   "outputs": [
    {
     "name": "stdout",
     "output_type": "stream",
     "text": [
      "The autoreload extension is already loaded. To reload it, use:\n",
      "  %reload_ext autoreload\n"
     ]
    },
    {
     "data": {
      "image/png": "[encoded data removed]",
      "text/plain": [
       "<matplotlib.figure.Figure at 0x7f6a3be82b70>"
      ]
     },
     "metadata": {
      "needs_background": "light"
     },
     "output_type": "display_data"
    }
   ],
   "source": [
    "%load_ext autoreload\n",
    "%autoreload 2\n",
    "\n",
    "%matplotlib inline\n",
    "import matplotlib.pyplot as plt\n",
    "\n",
    "from utils import utils\n",
    "from utils.utils import ScoreParcels\n",
    "\n",
    "score_parcels = [ScoreParcels('Version 2', './logs/log_DDPG_version_2.pickle', 'g'),]\n",
    "\n",
    "utils.plot_scores_v2(score_parcels, \n",
    "                  size_window=100,\n",
    "                 max_len=400,\n",
    "                 show_origin=True)\n"
   ]
  },
  {
   "cell_type": "code",
   "execution_count": null,
   "metadata": {},
   "outputs": [],
   "source": []
  }
 ],
 "metadata": {
  "kernelspec": {
   "display_name": "Python 3",
   "language": "python",
   "name": "python3"
  },
  "language_info": {
   "codemirror_mode": {
    "name": "ipython",
    "version": 3
   },
   "file_extension": ".py",
   "mimetype": "text/x-python",
   "name": "python",
   "nbconvert_exporter": "python",
   "pygments_lexer": "ipython3",
   "version": "3.6.3"
  }
 },
 "nbformat": 4,
 "nbformat_minor": 2
}
