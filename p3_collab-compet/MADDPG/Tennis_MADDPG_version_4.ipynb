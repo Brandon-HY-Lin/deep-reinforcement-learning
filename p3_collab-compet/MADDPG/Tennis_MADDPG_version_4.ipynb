{
 "cells": [
  {
   "cell_type": "markdown",
   "metadata": {},
   "source": [
    "# Collaboration and Competition\n",
    "\n",
    "---\n",
    "1. detach tensor in agent.forward_all() if (agent != self)\n",
    "2. add batch norm in actor and critic\n",
    "3. change 1st layer of critic networks. The shape is change from state_size to (state_size + action_size)\n",
    "4. disable gradients clipping by setting max_norm = 1000.0\n",
    "\n",
    "### 1. Start the Environment\n",
    "\n",
    "Run the next code cell to install a few packages.  This line will take a few minutes to run!"
   ]
  },
  {
   "cell_type": "code",
   "execution_count": 1,
   "metadata": {},
   "outputs": [],
   "source": [
    "!pip -q install ./python"
   ]
  },
  {
   "cell_type": "markdown",
   "metadata": {},
   "source": [
    "The environment is already saved in the Workspace and can be accessed at the file path provided below. "
   ]
  },
  {
   "cell_type": "code",
   "execution_count": 2,
   "metadata": {},
   "outputs": [
    {
     "name": "stderr",
     "output_type": "stream",
     "text": [
      "INFO:unityagents:\n",
      "'Academy' started successfully!\n",
      "Unity Academy name: Academy\n",
      "        Number of Brains: 1\n",
      "        Number of External Brains : 1\n",
      "        Lesson number : 0\n",
      "        Reset Parameters :\n",
      "\t\t\n",
      "Unity brain name: TennisBrain\n",
      "        Number of Visual Observations (per agent): 0\n",
      "        Vector Observation space type: continuous\n",
      "        Vector Observation space size (per agent): 8\n",
      "        Number of stacked Vector Observation: 3\n",
      "        Vector Action space type: continuous\n",
      "        Vector Action space size (per agent): 2\n",
      "        Vector Action descriptions: , \n"
     ]
    }
   ],
   "source": [
    "from unityagents import UnityEnvironment\n",
    "import numpy as np\n",
    "\n",
    "env = UnityEnvironment(file_name=\"/data/Tennis_Linux_NoVis/Tennis\")"
   ]
  },
  {
   "cell_type": "markdown",
   "metadata": {},
   "source": [
    "Environments contain **_brains_** which are responsible for deciding the actions of their associated agents. Here we check for the first brain available, and set it as the default brain we will be controlling from Python."
   ]
  },
  {
   "cell_type": "code",
   "execution_count": 3,
   "metadata": {},
   "outputs": [],
   "source": [
    "# get the default brain\n",
    "brain_name = env.brain_names[0]\n",
    "brain = env.brains[brain_name]"
   ]
  },
  {
   "cell_type": "markdown",
   "metadata": {},
   "source": [
    "### 2. Examine the State and Action Spaces\n",
    "\n",
    "Run the code cell below to print some information about the environment."
   ]
  },
  {
   "cell_type": "code",
   "execution_count": 4,
   "metadata": {},
   "outputs": [
    {
     "name": "stdout",
     "output_type": "stream",
     "text": [
      "Number of agents: 2\n",
      "Size of each action: 2\n",
      "There are 2 agents. Each observes a state with length: 24\n",
      "The state for the first agent looks like: [ 0.          0.          0.          0.          0.          0.          0.\n",
      "  0.          0.          0.          0.          0.          0.          0.\n",
      "  0.          0.         -6.65278625 -1.5        -0.          0.\n",
      "  6.83172083  6.         -0.          0.        ]\n"
     ]
    }
   ],
   "source": [
    "# reset the environment\n",
    "env_info = env.reset(train_mode=True)[brain_name]\n",
    "\n",
    "# number of agents \n",
    "num_agents = len(env_info.agents)\n",
    "print('Number of agents:', num_agents)\n",
    "\n",
    "# size of each action\n",
    "action_size = brain.vector_action_space_size\n",
    "print('Size of each action:', action_size)\n",
    "\n",
    "# examine the state space \n",
    "states = env_info.vector_observations\n",
    "state_size = states.shape[1]\n",
    "print('There are {} agents. Each observes a state with length: {}'.format(states.shape[0], state_size))\n",
    "print('The state for the first agent looks like:', states[0])"
   ]
  },
  {
   "cell_type": "markdown",
   "metadata": {},
   "source": [
    "### Identical and Complement Fields in Observation Spaces"
   ]
  },
  {
   "cell_type": "code",
   "execution_count": 5,
   "metadata": {},
   "outputs": [
    {
     "name": "stdout",
     "output_type": "stream",
     "text": [
      "Observation of agent 0:\n",
      "[ 0.          0.          0.          0.          0.          0.          0.\n",
      "  0.          0.          0.          0.          0.          0.          0.\n",
      "  0.          0.         -6.65278625 -1.5        -0.          0.\n",
      "  6.83172083  6.         -0.          0.        ]\n",
      "\n",
      "Observation of agent 1:\n",
      "[ 0.          0.          0.          0.          0.          0.          0.\n",
      "  0.          0.          0.          0.          0.          0.          0.\n",
      "  0.          0.         -6.4669857  -1.5         0.          0.\n",
      " -6.83172083  6.          0.          0.        ]\n",
      "\n",
      "Identical fields:\n",
      "-1.5\n",
      "6.0\n",
      "\n",
      "Complement fields:\n",
      "6.83172082901001\n",
      "-6.83172082901001\n",
      "\n"
     ]
    }
   ],
   "source": [
    "for index, s in enumerate(states):\n",
    "    print('Observation of agent {}:\\n{}\\n'.format(index, s))\n",
    "\n",
    "print('Identical fields:\\n{}\\n{}\\n'.format(states[0][17],\n",
    "                                        states[0][21]))\n",
    "\n",
    "print('Complement fields:\\n{}\\n{}\\n'.format(states[0][20],\n",
    "                                     states[1][20]))"
   ]
  },
  {
   "cell_type": "markdown",
   "metadata": {},
   "source": [
    "### 3. Take Random Actions in the Environment\n",
    "\n",
    "In the next code cell, you will learn how to use the Python API to control the agent and receive feedback from the environment.\n",
    "\n",
    "Note that **in this coding environment, you will not be able to watch the agents while they are training**, and you should set `train_mode=True` to restart the environment."
   ]
  },
  {
   "cell_type": "code",
   "execution_count": 6,
   "metadata": {},
   "outputs": [
    {
     "name": "stdout",
     "output_type": "stream",
     "text": [
      "Total score (averaged over agents) this episode: -0.004999999888241291\n",
      "Total score (averaged over agents) this episode: -0.004999999888241291\n",
      "Total score (averaged over agents) this episode: -0.004999999888241291\n",
      "Total score (averaged over agents) this episode: -0.004999999888241291\n",
      "Total score (averaged over agents) this episode: -0.004999999888241291\n"
     ]
    }
   ],
   "source": [
    "for i in range(5):                                         # play game for 5 episodes\n",
    "    env_info = env.reset(train_mode=False)[brain_name]     # reset the environment    \n",
    "    states = env_info.vector_observations                  # get the current state (for each agent)\n",
    "    scores = np.zeros(num_agents)                          # initialize the score (for each agent)\n",
    "    while True:\n",
    "        actions = np.random.randn(num_agents, action_size) # select an action (for each agent)\n",
    "        actions = np.clip(actions, -1, 1)                  # all actions between -1 and 1\n",
    "        env_info = env.step(actions)[brain_name]           # send all actions to tne environment\n",
    "        next_states = env_info.vector_observations         # get next state (for each agent)\n",
    "        rewards = env_info.rewards                         # get reward (for each agent)\n",
    "        dones = env_info.local_done                        # see if episode finished\n",
    "        scores += env_info.rewards                         # update the score (for each agent)\n",
    "        states = next_states                               # roll over states to next time step\n",
    "        if np.any(dones):                                  # exit loop if episode finished\n",
    "            break\n",
    "    print('Total score (averaged over agents) this episode: {}'.format(np.mean(scores)))"
   ]
  },
  {
   "cell_type": "markdown",
   "metadata": {},
   "source": [
    "When finished, you can close the environment."
   ]
  },
  {
   "cell_type": "code",
   "execution_count": 7,
   "metadata": {},
   "outputs": [],
   "source": [
    "# env.close()"
   ]
  },
  {
   "cell_type": "markdown",
   "metadata": {},
   "source": [
    "### 4. It's Your Turn!\n",
    "\n",
    "Now it's your turn to train your own agent to solve the environment!  A few **important notes**:\n",
    "- When training the environment, set `train_mode=True`, so that the line for resetting the environment looks like the following:\n",
    "```python\n",
    "env_info = env.reset(train_mode=True)[brain_name]\n",
    "```\n",
    "- To structure your work, you're welcome to work directly in this Jupyter notebook, or you might like to start over with a new file!  You can see the list of files in the workspace by clicking on **_Jupyter_** in the top left corner of the notebook.\n",
    "- In this coding environment, you will not be able to watch the agents while they are training.  However, **_after training the agents_**, you can download the saved model weights to watch the agents on your own machine! "
   ]
  },
  {
   "cell_type": "code",
   "execution_count": 11,
   "metadata": {},
   "outputs": [
    {
     "name": "stdout",
     "output_type": "stream",
     "text": [
      "The autoreload extension is already loaded. To reload it, use:\n",
      "  %reload_ext autoreload\n",
      "Episode 100\tAverage Score:0.0100\tTime Steps=1686\tExecution Time:0:00:11.963615\n",
      "Episode 200\tAverage Score:0.0088\tTime Steps=1625\tExecution Time:0:00:06.906399\n",
      "Episode 300\tAverage Score:0.0109\tTime Steps=1711\tExecution Time:0:00:07.538567\n",
      "Episode 400\tAverage Score:0.0069\tTime Steps=1588\tExecution Time:0:00:07.012428\n",
      "Episode 500\tAverage Score:0.0058\tTime Steps=1550\tExecution Time:0:00:06.305051\n",
      "Episode 600\tAverage Score:0.0049\tTime Steps=1568\tExecution Time:0:00:06.177669\n",
      "Episode 700\tAverage Score:0.0058\tTime Steps=1597\tExecution Time:0:00:06.305365\n",
      "Episode 800\tAverage Score:0.0068\tTime Steps=1562\tExecution Time:0:00:06.097569\n",
      "Episode 900\tAverage Score:0.0019\tTime Steps=1491\tExecution Time:0:00:05.718721\n",
      "Episode 1000\tAverage Score:0.0068\tTime Steps=1588\tExecution Time:0:00:06.367883\n",
      "Episode 1100\tAverage Score:0.0107\tTime Steps=1721\tExecution Time:0:00:07.373553\n",
      "Episode 1200\tAverage Score:0.0099\tTime Steps=1666\tExecution Time:0:00:06.979321\n",
      "Episode 1300\tAverage Score:0.0068\tTime Steps=1568\tExecution Time:0:00:06.359221\n",
      "Episode 1400\tAverage Score:0.0070\tTime Steps=1608\tExecution Time:0:00:06.151508\n",
      "Episode 1500\tAverage Score:0.0088\tTime Steps=1628\tExecution Time:0:00:06.341758\n",
      "Episode 1600\tAverage Score:0.0060\tTime Steps=1564\tExecution Time:0:00:05.967508\n",
      "Episode 1700\tAverage Score:0.0089\tTime Steps=1647\tExecution Time:0:00:06.219504\n",
      "Episode 1800\tAverage Score:0.0059\tTime Steps=1639\tExecution Time:0:00:06.392085\n",
      "Episode 1900\tAverage Score:0.0099\tTime Steps=1634\tExecution Time:0:00:06.095661\n",
      "Episode 2000\tAverage Score:0.0078\tTime Steps=1610\tExecution Time:0:00:05.990644\n",
      "Episode 2100\tAverage Score:0.0048\tTime Steps=1556\tExecution Time:0:00:05.776183\n",
      "Episode 2200\tAverage Score:0.0090\tTime Steps=1625\tExecution Time:0:00:06.075531\n",
      "Episode 2300\tAverage Score:0.0080\tTime Steps=1581\tExecution Time:0:00:06.220476\n",
      "Episode 2400\tAverage Score:0.0058\tTime Steps=1572\tExecution Time:0:00:05.760809\n",
      "Episode 2500\tAverage Score:0.0097\tTime Steps=1695\tExecution Time:0:00:06.408296\n",
      "Episode 2600\tAverage Score:0.0050\tTime Steps=1614\tExecution Time:0:00:06.022497\n",
      "Episode 2700\tAverage Score:0.0040\tTime Steps=1588\tExecution Time:0:00:05.895642\n",
      "Episode 2800\tAverage Score:0.0019\tTime Steps=1500\tExecution Time:0:00:06.834818\n",
      "Episode 2900\tAverage Score:0.0059\tTime Steps=1576\tExecution Time:0:00:06.442270\n",
      "Episode 3000\tAverage Score:0.0069\tTime Steps=1626\tExecution Time:0:00:06.002124\n",
      "Episode 3100\tAverage Score:0.0149\tTime Steps=1788\tExecution Time:0:00:07.022259\n",
      "Episode 3200\tAverage Score:0.0078\tTime Steps=1663\tExecution Time:0:00:06.408144\n",
      "Episode 3300\tAverage Score:0.0060\tTime Steps=1566\tExecution Time:0:00:05.743750\n",
      "Episode 3400\tAverage Score:0.0067\tTime Steps=1573\tExecution Time:0:00:05.791415\n",
      "Episode 3500\tAverage Score:0.0109\tTime Steps=1663\tExecution Time:0:00:06.196318\n",
      "Episode 3600\tAverage Score:0.0117\tTime Steps=1669\tExecution Time:0:00:06.546539\n",
      "Episode 3700\tAverage Score:0.0099\tTime Steps=1620\tExecution Time:0:00:06.040919\n",
      "Episode 3800\tAverage Score:0.0059\tTime Steps=1574\tExecution Time:0:00:06.043305\n",
      "Episode 3900\tAverage Score:0.0029\tTime Steps=1543\tExecution Time:0:00:05.548608\n",
      "Episode 4000\tAverage Score:0.0070\tTime Steps=1578\tExecution Time:0:00:05.825469\n",
      "Episode 4100\tAverage Score:0.0098\tTime Steps=1642\tExecution Time:0:00:06.102510\n",
      "Episode 4200\tAverage Score:0.0030\tTime Steps=1485\tExecution Time:0:00:05.543282\n",
      "Episode 4300\tAverage Score:0.0020\tTime Steps=1490\tExecution Time:0:00:05.800134\n",
      "Episode 4400\tAverage Score:0.0069\tTime Steps=1617\tExecution Time:0:00:05.822789\n",
      "Episode 4500\tAverage Score:0.0059\tTime Steps=1576\tExecution Time:0:00:05.986533\n",
      "Episode 4600\tAverage Score:0.0098\tTime Steps=1647\tExecution Time:0:00:06.373461\n",
      "Episode 4700\tAverage Score:0.0070\tTime Steps=1595\tExecution Time:0:00:06.001833\n",
      "Episode 4800\tAverage Score:0.0058\tTime Steps=1534\tExecution Time:0:00:05.858487\n",
      "Episode 4900\tAverage Score:0.0080\tTime Steps=1583\tExecution Time:0:00:05.896646\n",
      "Episode 5000\tAverage Score:0.0050\tTime Steps=1546\tExecution Time:0:00:05.378285\n",
      "Episode 5100\tAverage Score:0.0078\tTime Steps=1622\tExecution Time:0:00:05.858682\n",
      "Episode 5200\tAverage Score:0.0087\tTime Steps=1666\tExecution Time:0:00:05.983942\n",
      "Episode 5300\tAverage Score:0.0020\tTime Steps=1522\tExecution Time:0:00:05.881319\n",
      "Episode 5400\tAverage Score:0.0009\tTime Steps=1475\tExecution Time:0:00:06.326990\n",
      "Episode 5500\tAverage Score:0.0030\tTime Steps=1540\tExecution Time:0:00:06.342530\n",
      "Episode 5600\tAverage Score:0.0089\tTime Steps=1697\tExecution Time:0:00:06.399431\n",
      "Episode 5700\tAverage Score:0.0049\tTime Steps=1562\tExecution Time:0:00:05.841807\n",
      "Episode 5800\tAverage Score:0.0137\tTime Steps=1680\tExecution Time:0:00:06.093174\n",
      "Episode 5900\tAverage Score:0.0120\tTime Steps=1708\tExecution Time:0:00:06.295724\n",
      "Episode 6000\tAverage Score:0.0060\tTime Steps=1593\tExecution Time:0:00:06.006807\n",
      "Average Score: 0.0060\tTotal Time Steps: 96201\tTotal Time=0:06:16.672809\n"
     ]
    },
    {
     "data": {
      "image/png": "[encoded data removed]",
      "text/plain": [
       "<matplotlib.figure.Figure at 0x7fb56d2ffc50>"
      ]
     },
     "metadata": {
      "needs_background": "light"
     },
     "output_type": "display_data"
    }
   ],
   "source": [
    "%load_ext autoreload\n",
    "%autoreload 2\n",
    "\n",
    "from utils.workspace_utils import active_session\n",
    "import matplotlib.pyplot as plt\n",
    "%matplotlib inline\n",
    "from collections import deque\n",
    "import numpy as np\n",
    "from datetime import datetime\n",
    "from utils import utils\n",
    "from unity_env_decorator import UnityEnvDecorator\n",
    "from agents.maddpg_agent_version_4 import MADDPGAgentVersion4\n",
    "from agents.agent_group_version_2 import AgentGroupVersion2\n",
    "from agents.game import Game\n",
    "from utils.utils import ScoreParcels\n",
    "\n",
    "version='MADDPG_version_4'\n",
    "dir_logs='./logs/'\n",
    "dir_checkpoints='./checkpoints/'\n",
    "\n",
    "def init_agent_group(random_seed):\n",
    "    # define common parameters\n",
    "    param_agent = {'state_size': 24, \n",
    "                    'action_size': 2,\n",
    "                    'random_seed': random_seed,\n",
    "                    'lr_critic': 5e-3,\n",
    "                    'lr_actor': 1e-4,\n",
    "                    'fc1_units': 400,\n",
    "                    'fc2_units': 300,\n",
    "                    'gamma': 0.995,\n",
    "                    'tau': 1e-3,\n",
    "                    'max_norm': 1000.0,\n",
    "                    'epsilon_start': 1.0,\n",
    "                    'epsilon_end': 0.0,\n",
    "                    'epsilon_decay': 1.0,}\n",
    "\n",
    "    param_agent_group = {'action_size': param_agent['action_size'],\n",
    "                         'learn_period': 60,\n",
    "                        'learn_sampling_num':45,\n",
    "                         'buffer_size': int(1e5), \n",
    "                         'batch_size': 200,\n",
    "                          'random_seed': random_seed}\n",
    "\n",
    "    \"\"\"\n",
    "        class Game and class MADDPGAgentVersionX form a 'chain-of-responsibility' design pattern\n",
    "    \"\"\"\n",
    "    game = Game()\n",
    "    \n",
    "    # Initialize 2 DDPG agents. None of them has replay buffer\n",
    "    num_agents = 2\n",
    "    agent_list = []\n",
    "    for i_agent in range(num_agents):\n",
    "        agent = MADDPGAgentVersion4(game, num_agents, **param_agent, name='{}'.format(i_agent))\n",
    "        game.add_agent(agent)\n",
    "        agent_list.append(agent)\n",
    "\n",
    "    \"\"\" \n",
    "        Initialize container of agents.\n",
    "        This is a 'composite' design pattern\n",
    "    \"\"\"\n",
    "    agentGroup = AgentGroupVersion2(agent_list, **param_agent_group)\n",
    "        \n",
    "    return agentGroup\n",
    "\n",
    "def maddpg_framwork(envDecorator, agentGroup, n_episode=2000, max_episode_length=3000, \n",
    "                    print_every=100, size_moving_average=100, baseline_score=0.5, save_best=True):\n",
    "    \n",
    "    global_max_score = -1.0\n",
    "    scores_deque = deque(maxlen=size_moving_average)\n",
    "    scores = []\n",
    "    \n",
    "    total_time_steps = 0\n",
    "    time_steps = 0\n",
    "    \n",
    "    # Declare time stamp for total execution time\n",
    "    start_time_total = datetime.now()\n",
    "    # Declare time stamp for execution time within 'print_every' episodes.\n",
    "    start_time_moving_average = datetime.now()\n",
    "    \n",
    "    for i_episode in range(1, n_episode+1):\n",
    "        states = envDecorator.reset()\n",
    "        agentGroup.reset()\n",
    "        score = np.zeros(envDecorator.num_agents)\n",
    "        \n",
    "        for i_step in range(max_episode_length):\n",
    "            # actions[0] = actions of agent_0.\n",
    "            # actions[1]= actions of agent_1\n",
    "            actions = agentGroup.act(states)\n",
    "\n",
    "            # next_states[0] = next_states of agent_0\n",
    "            # next_states[1] = next_states of agent_1\n",
    "            next_states, rewards, dones, _ = envDecorator.step(actions)\n",
    "\n",
    "            agentGroup.step(states, actions, rewards, next_states, dones)\n",
    "\n",
    "            \n",
    "            \n",
    "            # record scores\n",
    "            score += rewards\n",
    "            states = next_states\n",
    "\n",
    "            time_steps += 1\n",
    "            total_time_steps += 1\n",
    "            \n",
    "            if np.any(dones):\n",
    "                break\n",
    "                \n",
    "        max_score = np.max(score)\n",
    "        scores.append(max_score)\n",
    "        scores_deque.append(max_score)\n",
    "                \n",
    "        \n",
    "        print('\\rEpisode {}\\tScore={}\\tStep:{}\\tAbs Time{}'.format(i_episode,\n",
    "                                                             score,\n",
    "                                                              i_step+1,\n",
    "                                                             datetime.now() - start_time_total),\n",
    "                                                             end='')\n",
    "    \n",
    "        if i_episode % print_every == 0:\n",
    "            print('\\rEpisode {}\\tAverage Score:{:.4f}\\tTime Steps={}\\tExecution Time:{}'.format(i_episode,\n",
    "                                                                 np.mean(scores_deque),\n",
    "                                                                 time_steps,\n",
    "                                                                 datetime.now() - start_time_moving_average))\n",
    "            \n",
    "            start_time_moving_average = datetime.now()\n",
    "            time_steps = 0\n",
    "            \n",
    "            \n",
    "        # save the model with highest score\n",
    "        if save_best is True:\n",
    "            if (max_score > baseline_score) and (max_score > global_max_score):\n",
    "                print('Save best model at episode {}'.format(i_episode))\n",
    "                utils.save_agent(agentGroup.model_dicts(), dir_checkpoints, version+'_best')\n",
    "                global_max_score = max_score\n",
    "            \n",
    "           \n",
    "    print('Average Score: {:.4f}\\tTotal Time Steps: {}\\tTotal Time={}'.format(np.mean(scores_deque),\n",
    "                                                        total_time_steps,\n",
    "                                                        datetime.now() - start_time_total))\n",
    "    return scores\n",
    "    \n",
    "\n",
    "def maddpg(unity_env, random_seed=0):\n",
    "    with active_session():\n",
    "    \n",
    "        # Decorator of unity environmet\n",
    "        envDecorator = UnityEnvDecorator(unity_env)\n",
    "    \n",
    "        agentGroup = init_agent_group(random_seed)\n",
    "    \n",
    "        # run MADDPG\n",
    "        scores = maddpg_framwork(envDecorator, agentGroup, n_episode=6000, \n",
    "                    max_episode_length=20000, print_every=100)\n",
    "    \n",
    "        # save scores\n",
    "        utils.save_logs(scores, dir_logs, version)\n",
    "    \n",
    "        path_score = utils.log_path_name(dir_logs, version)\n",
    "        score_parcels = [ScoreParcels('MADDPG', path_score, 'r')]\n",
    "        \n",
    "        utils.plot_scores_v2(score_parcels, \n",
    "                          size_window=100,\n",
    "                         show_origin=True,\n",
    "                        show_episode_on_label=True,\n",
    "                        margin=0)\n",
    "\n",
    "        # save the last agent\n",
    "        utils.save_agent(agentGroup.model_dicts(), dir_checkpoints, version)  \n",
    "    \n",
    "    \n",
    "maddpg(env)"
   ]
  },
  {
   "cell_type": "code",
   "execution_count": null,
   "metadata": {},
   "outputs": [],
   "source": []
  },
  {
   "cell_type": "code",
   "execution_count": null,
   "metadata": {},
   "outputs": [],
   "source": []
  }
 ],
 "metadata": {
  "kernelspec": {
   "display_name": "Python 3",
   "language": "python",
   "name": "python3"
  },
  "language_info": {
   "codemirror_mode": {
    "name": "ipython",
    "version": 3
   },
   "file_extension": ".py",
   "mimetype": "text/x-python",
   "name": "python",
   "nbconvert_exporter": "python",
   "pygments_lexer": "ipython3",
   "version": "3.6.3"
  }
 },
 "nbformat": 4,
 "nbformat_minor": 2
}
