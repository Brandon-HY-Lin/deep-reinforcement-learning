{
 "cells": [
  {
   "cell_type": "markdown",
   "metadata": {},
   "source": [
    "[maddpg_algorithm]: https://github.com/Brandon-HY-Lin/deep-reinforcement-learning/blob/master/p3_collab-compet/MADDPG/picures/maddpg_algorithm.png \"Algorithm of MADDPG\"\n",
    "\n",
    "[maddpg_digram]: https://github.com/Brandon-HY-Lin/deep-reinforcement-learning/blob/master/p3_collab-compet/MADDPG/picures/maddpg_diagram.png \"Diagram of MADDPG\"\n",
    "\n",
    "\n",
    "# Abstract\n",
    "\n",
    "# Introduction\n",
    "By looking at the highlighted equations in MADDPG algorithm shown below, the major difference between MADDPG and DDPG is the input shape of critic. Note that, x = \\[o1, o2, ..., oN\\]. The input size of critic in MADDPG algorithm is __(state_size+action_size)*num_agents__. On the other hand, the input size of actor in MADDPG algorithm is the same as DDPG, i.e. __state_size__.\n",
    "\n",
    "![Algorithm of MADDPG][maddpg_algorithm]\n",
    "\n",
    "*Algorthm of MADDPG*\n",
    "\n",
    "\n",
    "Furthermore, the diagram shown below also illustrate this subtile difference.\n",
    "![Diagram of MADDPG][maddpg_digram]\n",
    "\n",
    "*Diagram of MADDPG*\n"
   ]
  },
  {
   "cell_type": "code",
   "execution_count": 1,
   "metadata": {},
   "outputs": [
    {
     "name": "stdout",
     "output_type": "stream",
     "text": [
      "0\n",
      "1\n",
      "[0 1 2 3]\n",
      "0\n",
      "1\n",
      "[0 1 2 3]\n",
      "0\n",
      "1\n",
      "[0 1 2 3]\n"
     ]
    }
   ],
   "source": [
    "import numpy as np\n",
    "\n",
    "class ActionQuery():\n",
    "    def __init__(self):\n",
    "        self.result = None\n",
    "        \n",
    "\n",
    "class Game():\n",
    "    def __init__(self):\n",
    "        self.players = []\n",
    "        self.index = 0\n",
    "        \n",
    "    def accept(self, player):\n",
    "        self.players.append(player)\n",
    "        \n",
    "        \n",
    "    def __iter__(self):\n",
    "        self.index = 0\n",
    "        return self\n",
    "    \n",
    "    \n",
    "    def __next__(self):\n",
    "        if self.index < self.__len__():\n",
    "            player = self.players[self.index]\n",
    "            self.index += 1\n",
    "            return player\n",
    "        else:\n",
    "            raise StopIteration\n",
    "    \n",
    "    \n",
    "    def __len__(self):\n",
    "        return len(self.players)\n",
    "        \n",
    "        \n",
    "class Player():\n",
    "    def __init__(self, game, version):\n",
    "        self.game = game\n",
    "        self.version = version\n",
    "        \n",
    "        \n",
    "    def forward_all(self):\n",
    "        actionQuery = ActionQuery()\n",
    "        for i_player, player in enumerate(self.game):\n",
    "            print(i_player)\n",
    "            player.query(actionQuery)\n",
    "        \n",
    "        return actionQuery.result\n",
    "    \n",
    "    \n",
    "    def query(self, actionQuery):\n",
    "        if actionQuery.result is None:\n",
    "            actionQuery.result = self.version\n",
    "        else:\n",
    "#             actionQuery.result = np.concatenate(actionQuery.result, self.version)\n",
    "            actionQuery.result = np.concatenate((actionQuery.result, self.version), axis=0)\n",
    "            \n",
    "            \n",
    "game = Game()\n",
    "player_0 = Player(game, np.array([0, 1]))\n",
    "player_1 = Player(game, np.array([2, 3]))\n",
    "\n",
    "game.accept(player_0)\n",
    "game.accept(player_1)\n",
    "\n",
    "print(player_0.forward_all())\n",
    "print(player_0.forward_all())\n",
    "print(player_0.forward_all())"
   ]
  },
  {
   "cell_type": "code",
   "execution_count": null,
   "metadata": {},
   "outputs": [],
   "source": []
  }
 ],
 "metadata": {
  "kernelspec": {
   "display_name": "Python 3",
   "language": "python",
   "name": "python3"
  },
  "language_info": {
   "codemirror_mode": {
    "name": "ipython",
    "version": 3
   },
   "file_extension": ".py",
   "mimetype": "text/x-python",
   "name": "python",
   "nbconvert_exporter": "python",
   "pygments_lexer": "ipython3",
   "version": "3.6.3"
  }
 },
 "nbformat": 4,
 "nbformat_minor": 2
}
