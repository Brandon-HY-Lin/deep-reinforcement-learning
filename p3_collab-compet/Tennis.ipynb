{
 "cells": [
  {
   "cell_type": "markdown",
   "metadata": {},
   "source": [
    "# Collaboration and Competition\n",
    "\n",
    "---\n",
    "\n",
    "### 1. Start the Environment\n",
    "\n",
    "Run the next code cell to install a few packages.  This line will take a few minutes to run!"
   ]
  },
  {
   "cell_type": "code",
   "execution_count": 1,
   "metadata": {},
   "outputs": [],
   "source": [
    "!pip -q install ./python"
   ]
  },
  {
   "cell_type": "markdown",
   "metadata": {},
   "source": [
    "The environment is already saved in the Workspace and can be accessed at the file path provided below. "
   ]
  },
  {
   "cell_type": "code",
   "execution_count": 2,
   "metadata": {},
   "outputs": [
    {
     "name": "stderr",
     "output_type": "stream",
     "text": [
      "INFO:unityagents:\n",
      "'Academy' started successfully!\n",
      "Unity Academy name: Academy\n",
      "        Number of Brains: 1\n",
      "        Number of External Brains : 1\n",
      "        Lesson number : 0\n",
      "        Reset Parameters :\n",
      "\t\t\n",
      "Unity brain name: TennisBrain\n",
      "        Number of Visual Observations (per agent): 0\n",
      "        Vector Observation space type: continuous\n",
      "        Vector Observation space size (per agent): 8\n",
      "        Number of stacked Vector Observation: 3\n",
      "        Vector Action space type: continuous\n",
      "        Vector Action space size (per agent): 2\n",
      "        Vector Action descriptions: , \n"
     ]
    }
   ],
   "source": [
    "from unityagents import UnityEnvironment\n",
    "import numpy as np\n",
    "\n",
    "env = UnityEnvironment(file_name=\"/data/Tennis_Linux_NoVis/Tennis\")"
   ]
  },
  {
   "cell_type": "markdown",
   "metadata": {},
   "source": [
    "Environments contain **_brains_** which are responsible for deciding the actions of their associated agents. Here we check for the first brain available, and set it as the default brain we will be controlling from Python."
   ]
  },
  {
   "cell_type": "code",
   "execution_count": 3,
   "metadata": {},
   "outputs": [],
   "source": [
    "# get the default brain\n",
    "brain_name = env.brain_names[0]\n",
    "brain = env.brains[brain_name]"
   ]
  },
  {
   "cell_type": "markdown",
   "metadata": {},
   "source": [
    "### 2. Examine the State and Action Spaces\n",
    "\n",
    "Run the code cell below to print some information about the environment."
   ]
  },
  {
   "cell_type": "code",
   "execution_count": 4,
   "metadata": {},
   "outputs": [
    {
     "name": "stdout",
     "output_type": "stream",
     "text": [
      "Number of agents: 2\n",
      "Size of each action: 2\n",
      "There are 2 agents. Each observes a state with length: 24\n",
      "The state for the first agent looks like: [ 0.          0.          0.          0.          0.          0.          0.\n",
      "  0.          0.          0.          0.          0.          0.          0.\n",
      "  0.          0.         -6.65278625 -1.5        -0.          0.\n",
      "  6.83172083  6.         -0.          0.        ]\n"
     ]
    }
   ],
   "source": [
    "# reset the environment\n",
    "env_info = env.reset(train_mode=True)[brain_name]\n",
    "\n",
    "# number of agents \n",
    "num_agents = len(env_info.agents)\n",
    "print('Number of agents:', num_agents)\n",
    "\n",
    "# size of each action\n",
    "action_size = brain.vector_action_space_size\n",
    "print('Size of each action:', action_size)\n",
    "\n",
    "# examine the state space \n",
    "states = env_info.vector_observations\n",
    "state_size = states.shape[1]\n",
    "print('There are {} agents. Each observes a state with length: {}'.format(states.shape[0], state_size))\n",
    "print('The state for the first agent looks like:', states[0])"
   ]
  },
  {
   "cell_type": "markdown",
   "metadata": {},
   "source": [
    "### Identical and Complement Fields in Observation Spaces"
   ]
  },
  {
   "cell_type": "code",
   "execution_count": 5,
   "metadata": {
    "scrolled": true
   },
   "outputs": [
    {
     "name": "stdout",
     "output_type": "stream",
     "text": [
      "Observation of agent 0:\n",
      "[ 0.          0.          0.          0.          0.          0.          0.\n",
      "  0.          0.          0.          0.          0.          0.          0.\n",
      "  0.          0.         -6.65278625 -1.5        -0.          0.\n",
      "  6.83172083  6.         -0.          0.        ]\n",
      "\n",
      "Observation of agent 1:\n",
      "[ 0.          0.          0.          0.          0.          0.          0.\n",
      "  0.          0.          0.          0.          0.          0.          0.\n",
      "  0.          0.         -6.4669857  -1.5         0.          0.\n",
      " -6.83172083  6.          0.          0.        ]\n",
      "\n",
      "Identical fields:\n",
      "-1.5\n",
      "6.0\n",
      "\n",
      "Complement fields:\n",
      "6.83172082901001\n",
      "-6.83172082901001\n",
      "\n"
     ]
    }
   ],
   "source": [
    "for index, s in enumerate(states):\n",
    "    print('Observation of agent {}:\\n{}\\n'.format(index, s))\n",
    "\n",
    "print('Identical fields:\\n{}\\n{}\\n'.format(states[0][17],\n",
    "                                        states[0][21]))\n",
    "\n",
    "print('Complement fields:\\n{}\\n{}\\n'.format(states[0][20],\n",
    "                                     states[1][20]))"
   ]
  },
  {
   "cell_type": "markdown",
   "metadata": {},
   "source": [
    "### 3. Take Random Actions in the Environment\n",
    "\n",
    "In the next code cell, you will learn how to use the Python API to control the agent and receive feedback from the environment.\n",
    "\n",
    "Note that **in this coding environment, you will not be able to watch the agents while they are training**, and you should set `train_mode=True` to restart the environment."
   ]
  },
  {
   "cell_type": "code",
   "execution_count": 6,
   "metadata": {},
   "outputs": [
    {
     "name": "stdout",
     "output_type": "stream",
     "text": [
      "Total score (averaged over agents) this episode: -0.004999999888241291\n",
      "Total score (averaged over agents) this episode: -0.004999999888241291\n",
      "Total score (averaged over agents) this episode: -0.004999999888241291\n",
      "Total score (averaged over agents) this episode: -0.004999999888241291\n",
      "Total score (averaged over agents) this episode: -0.004999999888241291\n"
     ]
    }
   ],
   "source": [
    "for i in range(5):                                         # play game for 5 episodes\n",
    "    env_info = env.reset(train_mode=False)[brain_name]     # reset the environment    \n",
    "    states = env_info.vector_observations                  # get the current state (for each agent)\n",
    "    scores = np.zeros(num_agents)                          # initialize the score (for each agent)\n",
    "    while True:\n",
    "        actions = np.random.randn(num_agents, action_size) # select an action (for each agent)\n",
    "        actions = np.clip(actions, -1, 1)                  # all actions between -1 and 1\n",
    "        env_info = env.step(actions)[brain_name]           # send all actions to tne environment\n",
    "        next_states = env_info.vector_observations         # get next state (for each agent)\n",
    "        rewards = env_info.rewards                         # get reward (for each agent)\n",
    "        dones = env_info.local_done                        # see if episode finished\n",
    "        scores += env_info.rewards                         # update the score (for each agent)\n",
    "        states = next_states                               # roll over states to next time step\n",
    "        if np.any(dones):                                  # exit loop if episode finished\n",
    "            break\n",
    "    print('Total score (averaged over agents) this episode: {}'.format(np.mean(scores)))"
   ]
  },
  {
   "cell_type": "markdown",
   "metadata": {},
   "source": [
    "When finished, you can close the environment."
   ]
  },
  {
   "cell_type": "code",
   "execution_count": 7,
   "metadata": {},
   "outputs": [],
   "source": [
    "# env.close()"
   ]
  },
  {
   "cell_type": "markdown",
   "metadata": {},
   "source": [
    "### 4. It's Your Turn!\n",
    "\n",
    "Now it's your turn to train your own agent to solve the environment!  A few **important notes**:\n",
    "- When training the environment, set `train_mode=True`, so that the line for resetting the environment looks like the following:\n",
    "```python\n",
    "env_info = env.reset(train_mode=True)[brain_name]\n",
    "```\n",
    "- To structure your work, you're welcome to work directly in this Jupyter notebook, or you might like to start over with a new file!  You can see the list of files in the workspace by clicking on **_Jupyter_** in the top left corner of the notebook.\n",
    "- In this coding environment, you will not be able to watch the agents while they are training.  However, **_after training the agents_**, you can download the saved model weights to watch the agents on your own machine! "
   ]
  },
  {
   "cell_type": "code",
   "execution_count": null,
   "metadata": {},
   "outputs": [],
   "source": []
  },
  {
   "cell_type": "code",
   "execution_count": 5,
   "metadata": {},
   "outputs": [
    {
     "name": "stdout",
     "output_type": "stream",
     "text": [
      "Episode 100\tAverage Score:0.0155\tTime Steps=1744\tExecution Time:0:06:30.033052\n",
      "Episode 200\tAverage Score:0.0244\tTime Steps=1904\tExecution Time:0:08:25.038503\n",
      "Episode 300\tAverage Score:0.0830\tTime Steps=3076\tExecution Time:0:13:49.173447\n",
      "Episode 400\tAverage Score:0.1012\tTime Steps=3605\tExecution Time:0:16:47.481031\n",
      "Episode 422\tScore=[ 0.60000001  0.59000001]\tStep:243\tAbs Time0:50:55.513634\n",
      "Save best model at episode 422\n",
      "Episode 423\tScore=[ 0.79000001  0.90000001]\tStep:365\tAbs Time0:52:37.207366\n",
      "Save best model at episode 423\n",
      "Episode 446\tScore=[ 1.20000002  1.29000002]\tStep:486\tAbs Time1:01:49.190340\n",
      "Save best model at episode 446\n",
      "Episode 448\tScore=[ 1.29000002  1.40000002]\tStep:524\tAbs Time1:04:46.010080\n",
      "Save best model at episode 448\n",
      "Episode 500\tAverage Score:0.1824\tTime Steps=6952\tExecution Time:0:32:34.439454\n",
      "Episode 527\tScore=[ 1.60000002  1.59000002]\tStep:624\tAbs Time1:35:39.651485\n",
      "Save best model at episode 527\n",
      "Episode 528\tScore=[ 2.60000004  2.60000004]\tStep:1001\tAbs Time1:40:33.997500\n",
      "Save best model at episode 528\n",
      "Episode 600\tAverage Score:0.6566\tTime Steps=25241\tExecution Time:1:59:02.826716\n",
      "Episode 700\tAverage Score:0.7420\tTime Steps=28890\tExecution Time:2:14:15.508154\n",
      "Episode 800\tAverage Score:0.7889\tTime Steps=30518\tExecution Time:2:32:56.302632\n",
      "Episode 900\tAverage Score:0.7820\tTime Steps=30010\tExecution Time:2:29:26.365539\n",
      "Episode 937\tScore=[ 2.70000004  2.60000004]\tStep:1001\tAbs Time11:46:39.325330\n",
      "Save best model at episode 937\n",
      "Episode 1000\tAverage Score:1.2516\tTime Steps=47853\tExecution Time:4:05:56.231280\n",
      "Average Score: 1.2516\tTotal Time Steps: 179793\tTotal Time=14:39:43.401271\n"
     ]
    },
    {
     "data": {
      "image/png": "[encoded data removed]",
      "text/plain": [
       "<matplotlib.figure.Figure at 0x7f1451705e80>"
      ]
     },
     "metadata": {
      "needs_background": "light"
     },
     "output_type": "display_data"
    }
   ],
   "source": [
    "%load_ext autoreload\n",
    "%autoreload 2\n",
    "\n",
    "import torch\n",
    "from utils.workspace_utils import active_session\n",
    "import matplotlib.pyplot as plt\n",
    "%matplotlib inline\n",
    "from collections import deque\n",
    "import numpy as np\n",
    "from datetime import datetime\n",
    "from utils import utils\n",
    "from unity_env_decorator import UnityEnvDecorator\n",
    "from agents.maddpg_agent_version_7 import MADDPGAgentVersion7\n",
    "from agents.agent_group_version_3 import AgentGroupVersion3\n",
    "from agents.game import Game\n",
    "from utils.utils import ScoreParcels\n",
    "\n",
    "version='MADDPG_version_11_batch_size_256_2nd_run'\n",
    "dir_logs='./logs/'\n",
    "dir_checkpoints='./checkpoints/'\n",
    "\n",
    "def init_agent_group(random_seed):\n",
    "    # define common parameters\n",
    "    param_agent = {'state_size': 24, \n",
    "                    'action_size': 2,\n",
    "                    'random_seed': random_seed,\n",
    "                    'lr_critic': 1e-3,\n",
    "                    'lr_actor': 1e-3,\n",
    "                    'fc1_units': 256,\n",
    "                    'fc2_units': 128,\n",
    "                    'gamma': 0.95,\n",
    "                    'tau': 1e-2,\n",
    "                    'max_norm': 1.0,\n",
    "                    'epsilon_start': 5.0,\n",
    "                    'epsilon_end': 0.0,\n",
    "                    'epsilon_decay': 0.99,}\n",
    "\n",
    "    param_agent_group = {'action_size': param_agent['action_size'],\n",
    "                         'learn_period': 10,\n",
    "                        'learn_sampling_num':10,\n",
    "                         'buffer_size': int(1e6), \n",
    "                         'batch_size': 256,\n",
    "                          'random_seed': random_seed}\n",
    "\n",
    "    \"\"\"\n",
    "        class Game and class MADDPGAgentVersionX form a 'chain-of-responsibility' design pattern\n",
    "    \"\"\"\n",
    "    game = Game()\n",
    "    \n",
    "    # Initialize 2 DDPG agents. None of them has replay buffer\n",
    "    \n",
    "    # all networks share the same seed.\n",
    "    torch.manual_seed(random_seed)\n",
    "    \n",
    "    num_agents = 2\n",
    "    agent_list = []\n",
    "    for i_agent in range(num_agents):\n",
    "        agent = MADDPGAgentVersion7(game, num_agents, **param_agent, name='{}'.format(i_agent))\n",
    "        game.add_agent(agent)\n",
    "        agent_list.append(agent)\n",
    "\n",
    "    \"\"\" \n",
    "        Initialize container of agents.\n",
    "        This is a 'composite' design pattern\n",
    "    \"\"\"\n",
    "    agentGroup = AgentGroupVersion3(agent_list, **param_agent_group)\n",
    "        \n",
    "    return agentGroup\n",
    "\n",
    "def maddpg_framwork(envDecorator, agentGroup, n_episode=2000, max_episode_length=1000, \n",
    "                    print_every=100, size_moving_average=100, baseline_score=0.5, save_best=True):\n",
    "    \n",
    "    global_max_score = -1.0\n",
    "    scores_deque = deque(maxlen=size_moving_average)\n",
    "    scores = []\n",
    "    \n",
    "    total_time_steps = 0\n",
    "    time_steps = 0\n",
    "    \n",
    "    # Declare time stamp for total execution time\n",
    "    start_time_total = datetime.now()\n",
    "    # Declare time stamp for execution time within 'print_every' episodes.\n",
    "    start_time_moving_average = datetime.now()\n",
    "    \n",
    "    for i_episode in range(1, n_episode+1):\n",
    "        states = envDecorator.reset()\n",
    "        agentGroup.reset()\n",
    "        score = np.zeros(envDecorator.num_agents)\n",
    "        \n",
    "        for i_step in range(max_episode_length):\n",
    "            # actions[0] = actions of agent_0.\n",
    "            # actions[1]= actions of agent_1\n",
    "            actions = agentGroup.act(states)\n",
    "\n",
    "            # next_states[0] = next_states of agent_0\n",
    "            # next_states[1] = next_states of agent_1\n",
    "            next_states, rewards, dones, _ = envDecorator.step(actions)\n",
    "\n",
    "            agentGroup.step(states, actions, rewards, next_states, dones)\n",
    "\n",
    "            \n",
    "            \n",
    "            # record scores\n",
    "            score += rewards\n",
    "            states = next_states\n",
    "\n",
    "            time_steps += 1\n",
    "            total_time_steps += 1\n",
    "            \n",
    "            if np.any(dones):\n",
    "                break\n",
    "                \n",
    "        max_score = np.max(score)\n",
    "        scores.append(max_score)\n",
    "        scores_deque.append(max_score)\n",
    "                \n",
    "        \n",
    "        print('\\rEpisode {}\\tScore={}\\tStep:{}\\tAbs Time{}'.format(i_episode,\n",
    "                                                             score,\n",
    "                                                              i_step+1,\n",
    "                                                             datetime.now() - start_time_total),\n",
    "                                                             end='')\n",
    "    \n",
    "        if i_episode % print_every == 0:\n",
    "            print('\\rEpisode {}\\tAverage Score:{:.4f}\\tTime Steps={}\\tExecution Time:{}'.format(i_episode,\n",
    "                                                                 np.mean(scores_deque),\n",
    "                                                                 time_steps,\n",
    "                                                                 datetime.now() - start_time_moving_average))\n",
    "            \n",
    "            start_time_moving_average = datetime.now()\n",
    "            time_steps = 0\n",
    "            \n",
    "            \n",
    "        # save the model with highest score\n",
    "        if save_best is True:\n",
    "            if (max_score > baseline_score) and (max_score > global_max_score):\n",
    "                print('\\nSave best model at episode {}'.format(i_episode))\n",
    "                utils.save_agent(agentGroup.model_dicts(), dir_checkpoints, version+'_best')\n",
    "                global_max_score = max_score\n",
    "            \n",
    "           \n",
    "    print('Average Score: {:.4f}\\tTotal Time Steps: {}\\tTotal Time={}'.format(np.mean(scores_deque),\n",
    "                                                        total_time_steps,\n",
    "                                                        datetime.now() - start_time_total))\n",
    "    return scores\n",
    "    \n",
    "\n",
    "def maddpg(unity_env, random_seed=0):\n",
    "    with active_session():\n",
    "    \n",
    "        # Decorator of unity environmet\n",
    "        envDecorator = UnityEnvDecorator(unity_env)\n",
    "    \n",
    "        agentGroup = init_agent_group(random_seed)\n",
    "    \n",
    "        # run MADDPG\n",
    "        scores = maddpg_framwork(envDecorator, agentGroup, n_episode=1000, \n",
    "                    max_episode_length=20000, print_every=100)\n",
    "    \n",
    "        # save scores\n",
    "        utils.save_logs(scores, dir_logs, version)\n",
    "    \n",
    "        path_score = utils.log_path_name(dir_logs, version)\n",
    "        score_parcels = [ScoreParcels('MADDPG', path_score, 'r')]\n",
    "        \n",
    "        utils.plot_scores_v2(score_parcels, \n",
    "                          size_window=100,\n",
    "                         show_origin=True,\n",
    "                        show_episode_on_label=True,\n",
    "                        margin=0)\n",
    "\n",
    "        # save the last agent\n",
    "        utils.save_agent(agentGroup.model_dicts(), dir_checkpoints, version)  \n",
    "    \n",
    "    \n",
    "maddpg(env)"
   ]
  },
  {
   "cell_type": "code",
   "execution_count": 4,
   "metadata": {},
   "outputs": [
    {
     "name": "stdout",
     "output_type": "stream",
     "text": [
      "The autoreload extension is already loaded. To reload it, use:\n",
      "  %reload_ext autoreload\n"
     ]
    },
    {
     "data": {
      "image/png": "[encoded data removed]",
      "text/plain": [
       "<matplotlib.figure.Figure at 0x7f0f12a8d748>"
      ]
     },
     "metadata": {
      "needs_background": "light"
     },
     "output_type": "display_data"
    }
   ],
   "source": [
    "%load_ext autoreload\n",
    "%autoreload 2\n",
    "\n",
    "%matplotlib inline\n",
    "import matplotlib.pyplot as plt\n",
    "\n",
    "from utils import utils\n",
    "from utils.utils import ScoreParcels\n",
    "\n",
    "score_parcels = [ScoreParcels('MADDPG version 11 (w/ BN)', './logs/log_MADDPG_version_11_batch_size_256_2nd_run.pickle', 'r'),]\n",
    "\n",
    "utils.plot_scores_v2(score_parcels, \n",
    "                  size_window=100,\n",
    "                 show_origin=True,\n",
    "                show_episode_on_label=True,\n",
    "                margin=0)"
   ]
  },
  {
   "cell_type": "code",
   "execution_count": null,
   "metadata": {},
   "outputs": [],
   "source": []
  }
 ],
 "metadata": {
  "kernelspec": {
   "display_name": "Python 3",
   "language": "python",
   "name": "python3"
  },
  "language_info": {
   "codemirror_mode": {
    "name": "ipython",
    "version": 3
   },
   "file_extension": ".py",
   "mimetype": "text/x-python",
   "name": "python",
   "nbconvert_exporter": "python",
   "pygments_lexer": "ipython3",
   "version": "3.6.3"
  }
 },
 "nbformat": 4,
 "nbformat_minor": 2
}
