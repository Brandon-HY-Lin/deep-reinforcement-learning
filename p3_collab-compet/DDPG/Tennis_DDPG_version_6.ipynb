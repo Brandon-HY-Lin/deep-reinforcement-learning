{
 "cells": [
  {
   "cell_type": "markdown",
   "metadata": {},
   "source": [
    "# Collaboration and Competition\n",
    "\n",
    "---\n",
    "1. Change sigma of OUNoise from 0.2 to 0.8.\n",
    "2. Replace random experience replay with prioritized experience replay (PER).\n",
    "3. Add batch normalization to critic and actor networks in each agent.\n",
    "You are welcome to use this coding environment to train your agent for the project.  Follow the instructions below to get started!\n",
    "4. Add exploration decay.\n",
    "5. If the episode fails directly, the time step is 14. In order to learn at least 1 time, change sample period to 10, sample number to 20.\n",
    "\n",
    "### 1. Start the Environment\n",
    "\n",
    "Run the next code cell to install a few packages.  This line will take a few minutes to run!"
   ]
  },
  {
   "cell_type": "code",
   "execution_count": 2,
   "metadata": {},
   "outputs": [],
   "source": [
    "!pip -q install ./python"
   ]
  },
  {
   "cell_type": "markdown",
   "metadata": {},
   "source": [
    "The environment is already saved in the Workspace and can be accessed at the file path provided below. "
   ]
  },
  {
   "cell_type": "code",
   "execution_count": 3,
   "metadata": {},
   "outputs": [
    {
     "name": "stderr",
     "output_type": "stream",
     "text": [
      "INFO:unityagents:\n",
      "'Academy' started successfully!\n",
      "Unity Academy name: Academy\n",
      "        Number of Brains: 1\n",
      "        Number of External Brains : 1\n",
      "        Lesson number : 0\n",
      "        Reset Parameters :\n",
      "\t\t\n",
      "Unity brain name: TennisBrain\n",
      "        Number of Visual Observations (per agent): 0\n",
      "        Vector Observation space type: continuous\n",
      "        Vector Observation space size (per agent): 8\n",
      "        Number of stacked Vector Observation: 3\n",
      "        Vector Action space type: continuous\n",
      "        Vector Action space size (per agent): 2\n",
      "        Vector Action descriptions: , \n"
     ]
    }
   ],
   "source": [
    "from unityagents import UnityEnvironment\n",
    "import numpy as np\n",
    "\n",
    "env = UnityEnvironment(file_name=\"/data/Tennis_Linux_NoVis/Tennis\")"
   ]
  },
  {
   "cell_type": "markdown",
   "metadata": {},
   "source": [
    "Environments contain **_brains_** which are responsible for deciding the actions of their associated agents. Here we check for the first brain available, and set it as the default brain we will be controlling from Python."
   ]
  },
  {
   "cell_type": "code",
   "execution_count": 4,
   "metadata": {},
   "outputs": [],
   "source": [
    "# get the default brain\n",
    "brain_name = env.brain_names[0]\n",
    "brain = env.brains[brain_name]"
   ]
  },
  {
   "cell_type": "markdown",
   "metadata": {},
   "source": [
    "### 2. Examine the State and Action Spaces\n",
    "\n",
    "Run the code cell below to print some information about the environment."
   ]
  },
  {
   "cell_type": "code",
   "execution_count": 5,
   "metadata": {},
   "outputs": [
    {
     "name": "stdout",
     "output_type": "stream",
     "text": [
      "Number of agents: 2\n",
      "Size of each action: 2\n",
      "There are 2 agents. Each observes a state with length: 24\n",
      "The state for the first agent looks like: [ 0.          0.          0.          0.          0.          0.          0.\n",
      "  0.          0.          0.          0.          0.          0.          0.\n",
      "  0.          0.         -6.65278625 -1.5        -0.          0.\n",
      "  6.83172083  6.         -0.          0.        ]\n"
     ]
    }
   ],
   "source": [
    "# reset the environment\n",
    "env_info = env.reset(train_mode=True)[brain_name]\n",
    "\n",
    "# number of agents \n",
    "num_agents = len(env_info.agents)\n",
    "print('Number of agents:', num_agents)\n",
    "\n",
    "# size of each action\n",
    "action_size = brain.vector_action_space_size\n",
    "print('Size of each action:', action_size)\n",
    "\n",
    "# examine the state space \n",
    "states = env_info.vector_observations\n",
    "state_size = states.shape[1]\n",
    "print('There are {} agents. Each observes a state with length: {}'.format(states.shape[0], state_size))\n",
    "print('The state for the first agent looks like:', states[0])"
   ]
  },
  {
   "cell_type": "markdown",
   "metadata": {},
   "source": [
    "### Identical and Complement Fields in Observation Spaces"
   ]
  },
  {
   "cell_type": "code",
   "execution_count": 6,
   "metadata": {},
   "outputs": [
    {
     "name": "stdout",
     "output_type": "stream",
     "text": [
      "Observation of agent 0:\n",
      "[ 0.          0.          0.          0.          0.          0.          0.\n",
      "  0.          0.          0.          0.          0.          0.          0.\n",
      "  0.          0.         -6.65278625 -1.5        -0.          0.\n",
      "  6.83172083  6.         -0.          0.        ]\n",
      "\n",
      "Observation of agent 1:\n",
      "[ 0.          0.          0.          0.          0.          0.          0.\n",
      "  0.          0.          0.          0.          0.          0.          0.\n",
      "  0.          0.         -6.4669857  -1.5         0.          0.\n",
      " -6.83172083  6.          0.          0.        ]\n",
      "\n",
      "Identical fields:\n",
      "-1.5\n",
      "6.0\n",
      "\n",
      "Complement fields:\n",
      "6.83172082901001\n",
      "-6.83172082901001\n",
      "\n"
     ]
    }
   ],
   "source": [
    "for index, s in enumerate(states):\n",
    "    print('Observation of agent {}:\\n{}\\n'.format(index, s))\n",
    "\n",
    "print('Identical fields:\\n{}\\n{}\\n'.format(states[0][17],\n",
    "                                        states[0][21]))\n",
    "\n",
    "print('Complement fields:\\n{}\\n{}\\n'.format(states[0][20],\n",
    "                                     states[1][20]))"
   ]
  },
  {
   "cell_type": "markdown",
   "metadata": {},
   "source": [
    "### 3. Take Random Actions in the Environment\n",
    "\n",
    "In the next code cell, you will learn how to use the Python API to control the agent and receive feedback from the environment.\n",
    "\n",
    "Note that **in this coding environment, you will not be able to watch the agents while they are training**, and you should set `train_mode=True` to restart the environment."
   ]
  },
  {
   "cell_type": "code",
   "execution_count": 7,
   "metadata": {},
   "outputs": [
    {
     "name": "stdout",
     "output_type": "stream",
     "text": [
      "Total score (averaged over agents) this episode: -0.004999999888241291\n",
      "Total score (averaged over agents) this episode: 0.09500000160187483\n",
      "Total score (averaged over agents) this episode: -0.004999999888241291\n",
      "Total score (averaged over agents) this episode: -0.004999999888241291\n",
      "Total score (averaged over agents) this episode: 0.04500000085681677\n"
     ]
    }
   ],
   "source": [
    "for i in range(5):                                         # play game for 5 episodes\n",
    "    env_info = env.reset(train_mode=False)[brain_name]     # reset the environment    \n",
    "    states = env_info.vector_observations                  # get the current state (for each agent)\n",
    "    scores = np.zeros(num_agents)                          # initialize the score (for each agent)\n",
    "    while True:\n",
    "        actions = np.random.randn(num_agents, action_size) # select an action (for each agent)\n",
    "        actions = np.clip(actions, -1, 1)                  # all actions between -1 and 1\n",
    "        env_info = env.step(actions)[brain_name]           # send all actions to tne environment\n",
    "        next_states = env_info.vector_observations         # get next state (for each agent)\n",
    "        rewards = env_info.rewards                         # get reward (for each agent)\n",
    "        dones = env_info.local_done                        # see if episode finished\n",
    "        scores += env_info.rewards                         # update the score (for each agent)\n",
    "        states = next_states                               # roll over states to next time step\n",
    "        if np.any(dones):                                  # exit loop if episode finished\n",
    "            break\n",
    "    print('Total score (averaged over agents) this episode: {}'.format(np.mean(scores)))"
   ]
  },
  {
   "cell_type": "markdown",
   "metadata": {},
   "source": [
    "When finished, you can close the environment."
   ]
  },
  {
   "cell_type": "code",
   "execution_count": 8,
   "metadata": {},
   "outputs": [],
   "source": [
    "# env.close()"
   ]
  },
  {
   "cell_type": "markdown",
   "metadata": {},
   "source": [
    "### 4. It's Your Turn!\n",
    "\n",
    "Now it's your turn to train your own agent to solve the environment!  A few **important notes**:\n",
    "- When training the environment, set `train_mode=True`, so that the line for resetting the environment looks like the following:\n",
    "```python\n",
    "env_info = env.reset(train_mode=True)[brain_name]\n",
    "```\n",
    "- To structure your work, you're welcome to work directly in this Jupyter notebook, or you might like to start over with a new file!  You can see the list of files in the workspace by clicking on **_Jupyter_** in the top left corner of the notebook.\n",
    "- In this coding environment, you will not be able to watch the agents while they are training.  However, **_after training the agents_**, you can download the saved model weights to watch the agents on your own machine! "
   ]
  },
  {
   "cell_type": "code",
   "execution_count": 13,
   "metadata": {},
   "outputs": [
    {
     "name": "stdout",
     "output_type": "stream",
     "text": [
      "The autoreload extension is already loaded. To reload it, use:\n",
      "  %reload_ext autoreload\n",
      "Episode 100\tAverage Score:0.0130\tExecution Time:0:03:30.844703\n",
      "Episode 200\tAverage Score:0.0889\tExecution Time:0:06:58.653101\n",
      "Episode 212\tReward:[ 0.3   0.29]\tStep:129\tTime:0:11:40.552752\n",
      "Save Best at episode 212\n",
      "Episode 232\tReward:[ 0.40000001  0.29      ]\tStep:169\tTime:0:13:44.112319\n",
      "Save Best at episode 232\n",
      "Episode 260\tReward:[ 0.40000001  0.39000001]\tStep:167\tTime:0:17:20.505626\n",
      "Save Best at episode 260\n",
      "Episode 300\tAverage Score:0.2169\tExecution Time:0:12:34.4036101:22.142527\n",
      "Episode 364\tReward:[ 0.49000001  0.60000001]\tStep:227\tTime:0:31:41.200557\n",
      "Save Best at episode 364\n",
      "Episode 379\tReward:[ 0.69000001  0.80000001]\tStep:321\tTime:0:34:14.427673\n",
      "Save Best at episode 379\n",
      "Episode 400\tAverage Score:0.2710\tExecution Time:0:14:45.1149556:45.296378\n",
      "Episode 479\tReward:[ 1.49000002  1.50000002]\tStep:593\tTime:0:55:51.560146\n",
      "Save Best at episode 479\n",
      "Episode 500\tAverage Score:0.5349\tExecution Time:0:25:15.6332033:04.649357\n",
      "Episode 504\tReward:[ 2.10000003  1.99000003]\tStep:794\tTime:1:05:23.478102\n",
      "Save Best at episode 504\n",
      "Episode 600\tAverage Score:0.6129\tExecution Time:0:29:18.1592241:50.788720\n",
      "Episode 618\tReward:[ 2.60000004  2.50000004]\tStep:1001\tTime:1:40:52.402078\n",
      "Save Best at episode 618\n",
      "Episode 700\tAverage Score:0.7981\tExecution Time:0:36:24.4615788:47.270481\n",
      "Episode 800\tAverage Score:0.6690\tExecution Time:0:30:57.3660568:52.873561\n",
      "Episode 848\tReward:[ 2.60000004  2.60000004]\tStep:1001\tTime:3:04:18.508530\n",
      "Save Best at episode 848\n",
      "Episode 881\tReward:[ 2.60000004  2.70000004]\tStep:1001\tTime:3:32:53.775419\n",
      "Save Best at episode 881\n",
      "Episode 900\tAverage Score:1.5349\tExecution Time:1:06:37.0473786:21.6843004\n",
      "Episode 1000\tAverage Score:0.8350\tExecution Time:0:38:08.3853614:30.069843\n",
      "Average Score: 0.8350\tTotal Time=4:24:30.071159\n"
     ]
    },
    {
     "data": {
      "image/png": "[encoded data removed]",
      "text/plain": [
       "<matplotlib.figure.Figure at 0x7f6da4be08d0>"
      ]
     },
     "metadata": {
      "needs_background": "light"
     },
     "output_type": "display_data"
    }
   ],
   "source": [
    "%load_ext autoreload\n",
    "%autoreload 2\n",
    "\n",
    "from utils.workspace_utils import active_session\n",
    "import matplotlib.pyplot as plt\n",
    "%matplotlib inline\n",
    "from collections import deque\n",
    "import numpy as np\n",
    "from datetime import datetime\n",
    "from utils import utils\n",
    "from unity_env_decorator import UnityEnvDecorator\n",
    "from agents.ddpg_agent_version_4 import DDPGAgentVersion4\n",
    "from agents.agent_group import AgentGroup\n",
    "from utils.utils import ScoreParcels\n",
    "\n",
    "import pdb \n",
    "\n",
    "version='DDPG_version_6'\n",
    "dir_logs='./logs/'\n",
    "dir_checkpoints='./checkpoints/'\n",
    "\n",
    "def ddpg(envDecorator, agentGroup, n_episode=2000, max_episode_length=2000, \n",
    "         print_every=100, size_window=100, baseline_score=0.5, save_best=True):\n",
    "         \n",
    "\n",
    "    max_score = -1.0\n",
    "    scores_deque = deque(maxlen=size_window)\n",
    "    scores = []\n",
    "    \n",
    "    \n",
    "    # Declare time stamp for total execution time\n",
    "    start_time_total = datetime.now()\n",
    "    # Declare time stamp for execution time within 'print_every' episodes.\n",
    "    start_time_window = datetime.now()\n",
    "    \n",
    "    \n",
    "    for i_episode in range(1, n_episode+1):\n",
    "        states = envDecorator.reset()\n",
    "        agentGroup.reset()\n",
    "        score = np.zeros(envDecorator.num_agents)\n",
    "        \n",
    "        for i_step in range(max_episode_length):\n",
    "            # actions[0] = actions of agent_0.\n",
    "            # actions[1]= actions of agent_1\n",
    "            actions = agentGroup.act(states, add_noise=True)\n",
    "\n",
    "#             pdb.set_trace()\n",
    "            \n",
    "            # next_states[0] = next_states of agent_0\n",
    "            # next_states[1] = next_states of agent_1\n",
    "            next_states, rewards, dones, _ = envDecorator.step(actions)\n",
    "\n",
    "            agentGroup.step(states, actions, rewards, next_states, dones)\n",
    "            \n",
    "            score += rewards\n",
    "            states = next_states\n",
    "            \n",
    "            if np.any(dones):\n",
    "                break\n",
    "                \n",
    "        score_sum = np.sum(score)\n",
    "        scores.append(score_sum)\n",
    "        scores_deque.append(score_sum)\n",
    "             \n",
    "        print('\\rEpisode {}\\tReward:{:}\\tStep:{}\\tTime:{}'.format(i_episode,\n",
    "                                                             score,\n",
    "                                                              i_step+1,\n",
    "                                                             datetime.now() - start_time_total),\n",
    "                                                             end='')\n",
    "\n",
    "        if i_episode % print_every == 0:\n",
    "            print('\\rEpisode {}\\tAverage Score:{:.4f}\\tExecution Time:{}'.format(i_episode,\n",
    "                                                                 np.mean(scores_deque),\n",
    "                                                                 datetime.now() - start_time_window))\n",
    "                                                                 \n",
    "            start_time_window = datetime.now()\n",
    "\n",
    "        # save the best model\n",
    "        if save_best is True:\n",
    "            if (score_sum > baseline_score) and (max_score < score_sum):\n",
    "                print('\\nSave Best at episode {}'.format(i_episode))\n",
    "                utils.save_agent(agentGroup.model_dicts(), dir_checkpoints, version+'_best')\n",
    "                max_score = score_sum\n",
    "            \n",
    "           \n",
    "    print('Average Score: {:.4f}\\tTotal Time={}'.format(np.mean(scores_deque),\n",
    "                                                        datetime.now() - start_time_total))\n",
    "    \n",
    "    return scores\n",
    "        \n",
    "                \n",
    "with active_session():\n",
    "    \n",
    "    # Decorator of unity environmet\n",
    "    envDecorator = UnityEnvDecorator(env)\n",
    "\n",
    "    # define common parameters\n",
    "    base_params = {'state_size': 24, \n",
    "                    'action_size': 2,\n",
    "                    'random_seed': 0,\n",
    "                    'lr_actor': 1e-3, \n",
    "                    'lr_critic': 1e-3,\n",
    "                    'fc1_units': 256, \n",
    "                    'fc2_units': 128,\n",
    "                    'buffer_size': int(1e6),\n",
    "                    'learn_period': 10, \n",
    "                    'learn_sampling_num': 20,\n",
    "                    'batch_size': 128,\n",
    "                    'max_norm': 1.0,\n",
    "                    'exploration_sigma': 0.2,\n",
    "                    'epsilon_start': 5.0,\n",
    "                    'epsilon_end': 0.0,\n",
    "                    'epsilon_decay': 0.99}\n",
    "                    \n",
    "    agent0 = DDPGAgentVersion4(**base_params, name='0')\n",
    "    agent1 = DDPGAgentVersion4(**base_params, name='1')\n",
    "                        \n",
    "    # Composite design pattern\n",
    "    agentGroup = AgentGroup([agent0, agent1])\n",
    "    \n",
    "    scores = ddpg(envDecorator, agentGroup, n_episode=1000, \n",
    "                    max_episode_length=20000, print_every=100)\n",
    "    \n",
    "    utils.save_logs(scores, dir_logs, version)\n",
    "    \n",
    "    path_score = utils.log_path_name(dir_logs, version)\n",
    "    score_parcels = [ScoreParcels('DDPG', path_score, 'r')]\n",
    "    utils.plot_scores(score_parcels, size_window=100, show_origin=True)\n",
    "\n",
    "    # save models in the agent. (Agent needs to return dict with model-name pair)\n",
    "    utils.save_agent(agentGroup.model_dicts(), dir_checkpoints, version)"
   ]
  },
  {
   "cell_type": "code",
   "execution_count": 1,
   "metadata": {},
   "outputs": [
    {
     "data": {
      "image/png": "[encoded data removed]",
      "text/plain": [
       "<matplotlib.figure.Figure at 0x7f14999497b8>"
      ]
     },
     "metadata": {
      "needs_background": "light"
     },
     "output_type": "display_data"
    }
   ],
   "source": [
    "%load_ext autoreload\n",
    "%autoreload 2\n",
    "\n",
    "%matplotlib inline\n",
    "import matplotlib.pyplot as plt\n",
    "\n",
    "from utils import utils\n",
    "from utils.utils import ScoreParcels\n",
    "\n",
    "score_parcels = [ScoreParcels('Version 6 (w/ BN)', './logs/log_DDPG_version_6.pickle', 'y'),]\n",
    "\n",
    "utils.plot_scores_v2(score_parcels, \n",
    "                  size_window=100,\n",
    "                 show_origin=True,\n",
    "                show_episode_on_label=True,\n",
    "                margin=0)"
   ]
  },
  {
   "cell_type": "code",
   "execution_count": null,
   "metadata": {},
   "outputs": [],
   "source": []
  }
 ],
 "metadata": {
  "kernelspec": {
   "display_name": "Python 3",
   "language": "python",
   "name": "python3"
  },
  "language_info": {
   "codemirror_mode": {
    "name": "ipython",
    "version": 3
   },
   "file_extension": ".py",
   "mimetype": "text/x-python",
   "name": "python",
   "nbconvert_exporter": "python",
   "pygments_lexer": "ipython3",
   "version": "3.6.3"
  }
 },
 "nbformat": 4,
 "nbformat_minor": 2
}
